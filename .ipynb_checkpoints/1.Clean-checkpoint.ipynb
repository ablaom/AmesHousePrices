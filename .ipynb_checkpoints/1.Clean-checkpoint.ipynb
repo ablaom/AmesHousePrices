{
 "cells": [
  {
   "cell_type": "markdown",
   "metadata": {
    "collapsed": true
   },
   "source": [
    "# Ames House Price Data - Data Cleaning\n",
    "\n",
    "> Juptyer notebook in Julia 0.5.2, using Machine Learning modules written by author\n",
    "\n",
    "*This notebook describes cleaning of the data. Additional model-dependent transformations to the data (eg, Cox-Box transformations and one-hot encodings for linear models) are described in the notebook for the relevant model.*\n",
    "\n",
    "## Index\n",
    "\n",
    "- [Reviewing data types](#review-data-types)\n",
    "\n",
    "- [Appraising the quality of the data](#appraising-the-quality-of-the-data)\n",
    "\n",
    "- [Determining outliers](#determining-outliers)\n",
    "\n",
    "- [Cleaning](#cleaning)\n",
    "\n",
    "- [Transforming the target variable](#transforming-the-target-variable)\n",
    "\n",
    "- [Saving the cleaned data to file](#saving-the-cleaned-data-to-file)\n",
    "\n",
    "\n",
    "## Reviewing data types\n",
    "\n",
    "Some of our models are able to handle categorical and ordinal data simultaneously. These models will expect categorical data to be of `String` or `Char` type. In the house price data the attribute `MSSubClass` (building class) is categorical but is represented by an `Int` datatype. We fix this now, after loading the data:"
   ]
  },
  {
   "cell_type": "code",
   "execution_count": 1,
   "metadata": {
    "collapsed": false
   },
   "outputs": [
    {
     "name": "stderr",
     "output_type": "stream",
     "text": [
      "WARNING: Method definition describe(AbstractArray) in module StatsBase at /Users/anthony/.julia/v0.5/StatsBase/src/scalarstats.jl:560 overwritten in module DataFrames at /Users/anthony/.julia/v0.5/DataFrames/src/abstractdataframe/abstractdataframe.jl:407.\n",
      "WARNING: Method definition count() in module IterTools at deprecated.jl:49 overwritten in module Iterators at deprecated.jl:49.\n",
      "WARNING: Method definition count(Number) in module IterTools at deprecated.jl:49 overwritten in module Iterators at deprecated.jl:49.\n",
      "WARNING: Method definition count(Number, Number) in module IterTools at deprecated.jl:49 overwritten in module Iterators at deprecated.jl:49.\n"
     ]
    },
    {
     "data": {
      "text/html": [
       "<table class=\"data-frame\"><thead><tr><th></th><th>Id</th><th>MSSubClass</th><th>MSZoning</th><th>LotFrontage</th><th>LotArea</th><th>Street</th><th>Alley</th><th>LotShape</th><th>LandContour</th><th>Utilities</th><th>LotConfig</th><th>LandSlope</th><th>Neighborhood</th><th>Condition1</th><th>Condition2</th><th>BldgType</th><th>HouseStyle</th><th>OverallQual</th><th>OverallCond</th><th>YearBuilt</th><th>YearRemodAdd</th><th>RoofStyle</th><th>RoofMatl</th><th>Exterior1st</th><th>Exterior2nd</th><th>MasVnrType</th><th>MasVnrArea</th><th>ExterQual</th><th>ExterCond</th><th>Foundation</th><th>BsmtQual</th><th>BsmtCond</th><th>BsmtExposure</th><th>BsmtFinType1</th><th>BsmtFinSF1</th><th>BsmtFinType2</th><th>BsmtFinSF2</th><th>BsmtUnfSF</th><th>TotalBsmtSF</th><th>Heating</th><th>HeatingQC</th><th>CentralAir</th><th>Electrical</th><th>x1stFlrSF</th><th>x2ndFlrSF</th><th>LowQualFinSF</th><th>GrLivArea</th><th>BsmtFullBath</th><th>BsmtHalfBath</th><th>FullBath</th><th>HalfBath</th><th>BedroomAbvGr</th><th>KitchenAbvGr</th><th>KitchenQual</th><th>TotRmsAbvGrd</th><th>Functional</th><th>Fireplaces</th><th>FireplaceQu</th><th>GarageType</th><th>GarageYrBlt</th><th>GarageFinish</th><th>GarageCars</th><th>GarageArea</th><th>GarageQual</th><th>GarageCond</th><th>PavedDrive</th><th>WoodDeckSF</th><th>OpenPorchSF</th><th>EnclosedPorch</th><th>x3SsnPorch</th><th>ScreenPorch</th><th>PoolArea</th><th>PoolQC</th><th>Fence</th><th>MiscFeature</th><th>MiscVal</th><th>MoSold</th><th>YrSold</th><th>SaleType</th><th>SaleCondition</th><th>SalePrice</th></tr></thead><tbody><tr><th>1</th><td>1</td><td>60</td><td>RL</td><td>65</td><td>8450</td><td>Pave</td><td>NA</td><td>Reg</td><td>Lvl</td><td>AllPub</td><td>Inside</td><td>Gtl</td><td>CollgCr</td><td>Norm</td><td>Norm</td><td>1Fam</td><td>2Story</td><td>7</td><td>5</td><td>2003</td><td>2003</td><td>Gable</td><td>CompShg</td><td>VinylSd</td><td>VinylSd</td><td>BrkFace</td><td>196</td><td>Gd</td><td>TA</td><td>PConc</td><td>Gd</td><td>TA</td><td>No</td><td>GLQ</td><td>706</td><td>Unf</td><td>0</td><td>150</td><td>856</td><td>GasA</td><td>Ex</td><td>Y</td><td>SBrkr</td><td>856</td><td>854</td><td>0</td><td>1710</td><td>1</td><td>0</td><td>2</td><td>1</td><td>3</td><td>1</td><td>Gd</td><td>8</td><td>Typ</td><td>0</td><td>NA</td><td>Attchd</td><td>2003</td><td>RFn</td><td>2</td><td>548</td><td>TA</td><td>TA</td><td>Y</td><td>0</td><td>61</td><td>0</td><td>0</td><td>0</td><td>0</td><td>NA</td><td>NA</td><td>NA</td><td>0</td><td>2</td><td>2008</td><td>WD</td><td>Normal</td><td>208500</td></tr><tr><th>2</th><td>2</td><td>20</td><td>RL</td><td>80</td><td>9600</td><td>Pave</td><td>NA</td><td>Reg</td><td>Lvl</td><td>AllPub</td><td>FR2</td><td>Gtl</td><td>Veenker</td><td>Feedr</td><td>Norm</td><td>1Fam</td><td>1Story</td><td>6</td><td>8</td><td>1976</td><td>1976</td><td>Gable</td><td>CompShg</td><td>MetalSd</td><td>MetalSd</td><td>None</td><td>0</td><td>TA</td><td>TA</td><td>CBlock</td><td>Gd</td><td>TA</td><td>Gd</td><td>ALQ</td><td>978</td><td>Unf</td><td>0</td><td>284</td><td>1262</td><td>GasA</td><td>Ex</td><td>Y</td><td>SBrkr</td><td>1262</td><td>0</td><td>0</td><td>1262</td><td>0</td><td>1</td><td>2</td><td>0</td><td>3</td><td>1</td><td>TA</td><td>6</td><td>Typ</td><td>1</td><td>TA</td><td>Attchd</td><td>1976</td><td>RFn</td><td>2</td><td>460</td><td>TA</td><td>TA</td><td>Y</td><td>298</td><td>0</td><td>0</td><td>0</td><td>0</td><td>0</td><td>NA</td><td>NA</td><td>NA</td><td>0</td><td>5</td><td>2007</td><td>WD</td><td>Normal</td><td>181500</td></tr><tr><th>3</th><td>3</td><td>60</td><td>RL</td><td>68</td><td>11250</td><td>Pave</td><td>NA</td><td>IR1</td><td>Lvl</td><td>AllPub</td><td>Inside</td><td>Gtl</td><td>CollgCr</td><td>Norm</td><td>Norm</td><td>1Fam</td><td>2Story</td><td>7</td><td>5</td><td>2001</td><td>2002</td><td>Gable</td><td>CompShg</td><td>VinylSd</td><td>VinylSd</td><td>BrkFace</td><td>162</td><td>Gd</td><td>TA</td><td>PConc</td><td>Gd</td><td>TA</td><td>Mn</td><td>GLQ</td><td>486</td><td>Unf</td><td>0</td><td>434</td><td>920</td><td>GasA</td><td>Ex</td><td>Y</td><td>SBrkr</td><td>920</td><td>866</td><td>0</td><td>1786</td><td>1</td><td>0</td><td>2</td><td>1</td><td>3</td><td>1</td><td>Gd</td><td>6</td><td>Typ</td><td>1</td><td>TA</td><td>Attchd</td><td>2001</td><td>RFn</td><td>2</td><td>608</td><td>TA</td><td>TA</td><td>Y</td><td>0</td><td>42</td><td>0</td><td>0</td><td>0</td><td>0</td><td>NA</td><td>NA</td><td>NA</td><td>0</td><td>9</td><td>2008</td><td>WD</td><td>Normal</td><td>223500</td></tr><tr><th>4</th><td>4</td><td>70</td><td>RL</td><td>60</td><td>9550</td><td>Pave</td><td>NA</td><td>IR1</td><td>Lvl</td><td>AllPub</td><td>Corner</td><td>Gtl</td><td>Crawfor</td><td>Norm</td><td>Norm</td><td>1Fam</td><td>2Story</td><td>7</td><td>5</td><td>1915</td><td>1970</td><td>Gable</td><td>CompShg</td><td>Wd Sdng</td><td>Wd Shng</td><td>None</td><td>0</td><td>TA</td><td>TA</td><td>BrkTil</td><td>TA</td><td>Gd</td><td>No</td><td>ALQ</td><td>216</td><td>Unf</td><td>0</td><td>540</td><td>756</td><td>GasA</td><td>Gd</td><td>Y</td><td>SBrkr</td><td>961</td><td>756</td><td>0</td><td>1717</td><td>1</td><td>0</td><td>1</td><td>0</td><td>3</td><td>1</td><td>Gd</td><td>7</td><td>Typ</td><td>1</td><td>Gd</td><td>Detchd</td><td>1998</td><td>Unf</td><td>3</td><td>642</td><td>TA</td><td>TA</td><td>Y</td><td>0</td><td>35</td><td>272</td><td>0</td><td>0</td><td>0</td><td>NA</td><td>NA</td><td>NA</td><td>0</td><td>2</td><td>2006</td><td>WD</td><td>Abnorml</td><td>140000</td></tr><tr><th>5</th><td>5</td><td>60</td><td>RL</td><td>84</td><td>14260</td><td>Pave</td><td>NA</td><td>IR1</td><td>Lvl</td><td>AllPub</td><td>FR2</td><td>Gtl</td><td>NoRidge</td><td>Norm</td><td>Norm</td><td>1Fam</td><td>2Story</td><td>8</td><td>5</td><td>2000</td><td>2000</td><td>Gable</td><td>CompShg</td><td>VinylSd</td><td>VinylSd</td><td>BrkFace</td><td>350</td><td>Gd</td><td>TA</td><td>PConc</td><td>Gd</td><td>TA</td><td>Av</td><td>GLQ</td><td>655</td><td>Unf</td><td>0</td><td>490</td><td>1145</td><td>GasA</td><td>Ex</td><td>Y</td><td>SBrkr</td><td>1145</td><td>1053</td><td>0</td><td>2198</td><td>1</td><td>0</td><td>2</td><td>1</td><td>4</td><td>1</td><td>Gd</td><td>9</td><td>Typ</td><td>1</td><td>TA</td><td>Attchd</td><td>2000</td><td>RFn</td><td>3</td><td>836</td><td>TA</td><td>TA</td><td>Y</td><td>192</td><td>84</td><td>0</td><td>0</td><td>0</td><td>0</td><td>NA</td><td>NA</td><td>NA</td><td>0</td><td>12</td><td>2008</td><td>WD</td><td>Normal</td><td>250000</td></tr><tr><th>6</th><td>6</td><td>50</td><td>RL</td><td>85</td><td>14115</td><td>Pave</td><td>NA</td><td>IR1</td><td>Lvl</td><td>AllPub</td><td>Inside</td><td>Gtl</td><td>Mitchel</td><td>Norm</td><td>Norm</td><td>1Fam</td><td>1.5Fin</td><td>5</td><td>5</td><td>1993</td><td>1995</td><td>Gable</td><td>CompShg</td><td>VinylSd</td><td>VinylSd</td><td>None</td><td>0</td><td>TA</td><td>TA</td><td>Wood</td><td>Gd</td><td>TA</td><td>No</td><td>GLQ</td><td>732</td><td>Unf</td><td>0</td><td>64</td><td>796</td><td>GasA</td><td>Ex</td><td>Y</td><td>SBrkr</td><td>796</td><td>566</td><td>0</td><td>1362</td><td>1</td><td>0</td><td>1</td><td>1</td><td>1</td><td>1</td><td>TA</td><td>5</td><td>Typ</td><td>0</td><td>NA</td><td>Attchd</td><td>1993</td><td>Unf</td><td>2</td><td>480</td><td>TA</td><td>TA</td><td>Y</td><td>40</td><td>30</td><td>0</td><td>320</td><td>0</td><td>0</td><td>NA</td><td>MnPrv</td><td>Shed</td><td>700</td><td>10</td><td>2009</td><td>WD</td><td>Normal</td><td>143000</td></tr></tbody></table>"
      ],
      "text/plain": [
       "6×81 DataFrames.DataFrame\n",
       "│ Row │ Id │ MSSubClass │ MSZoning │ LotFrontage │ LotArea │ Street │ Alley │\n",
       "├─────┼────┼────────────┼──────────┼─────────────┼─────────┼────────┼───────┤\n",
       "│ 1   │ 1  │ 60         │ \"RL\"     │ 65          │ 8450    │ \"Pave\" │ NA    │\n",
       "│ 2   │ 2  │ 20         │ \"RL\"     │ 80          │ 9600    │ \"Pave\" │ NA    │\n",
       "│ 3   │ 3  │ 60         │ \"RL\"     │ 68          │ 11250   │ \"Pave\" │ NA    │\n",
       "│ 4   │ 4  │ 70         │ \"RL\"     │ 60          │ 9550    │ \"Pave\" │ NA    │\n",
       "│ 5   │ 5  │ 60         │ \"RL\"     │ 84          │ 14260   │ \"Pave\" │ NA    │\n",
       "│ 6   │ 6  │ 50         │ \"RL\"     │ 85          │ 14115   │ \"Pave\" │ NA    │\n",
       "\n",
       "│ Row │ LotShape │ LandContour │ Utilities │ LotConfig │ LandSlope │\n",
       "├─────┼──────────┼─────────────┼───────────┼───────────┼───────────┤\n",
       "│ 1   │ \"Reg\"    │ \"Lvl\"       │ \"AllPub\"  │ \"Inside\"  │ \"Gtl\"     │\n",
       "│ 2   │ \"Reg\"    │ \"Lvl\"       │ \"AllPub\"  │ \"FR2\"     │ \"Gtl\"     │\n",
       "│ 3   │ \"IR1\"    │ \"Lvl\"       │ \"AllPub\"  │ \"Inside\"  │ \"Gtl\"     │\n",
       "│ 4   │ \"IR1\"    │ \"Lvl\"       │ \"AllPub\"  │ \"Corner\"  │ \"Gtl\"     │\n",
       "│ 5   │ \"IR1\"    │ \"Lvl\"       │ \"AllPub\"  │ \"FR2\"     │ \"Gtl\"     │\n",
       "│ 6   │ \"IR1\"    │ \"Lvl\"       │ \"AllPub\"  │ \"Inside\"  │ \"Gtl\"     │\n",
       "\n",
       "│ Row │ Neighborhood │ Condition1 │ Condition2 │ BldgType │ HouseStyle │\n",
       "├─────┼──────────────┼────────────┼────────────┼──────────┼────────────┤\n",
       "│ 1   │ \"CollgCr\"    │ \"Norm\"     │ \"Norm\"     │ \"1Fam\"   │ \"2Story\"   │\n",
       "│ 2   │ \"Veenker\"    │ \"Feedr\"    │ \"Norm\"     │ \"1Fam\"   │ \"1Story\"   │\n",
       "│ 3   │ \"CollgCr\"    │ \"Norm\"     │ \"Norm\"     │ \"1Fam\"   │ \"2Story\"   │\n",
       "│ 4   │ \"Crawfor\"    │ \"Norm\"     │ \"Norm\"     │ \"1Fam\"   │ \"2Story\"   │\n",
       "│ 5   │ \"NoRidge\"    │ \"Norm\"     │ \"Norm\"     │ \"1Fam\"   │ \"2Story\"   │\n",
       "│ 6   │ \"Mitchel\"    │ \"Norm\"     │ \"Norm\"     │ \"1Fam\"   │ \"1.5Fin\"   │\n",
       "\n",
       "│ Row │ OverallQual │ OverallCond │ YearBuilt │ YearRemodAdd │ RoofStyle │\n",
       "├─────┼─────────────┼─────────────┼───────────┼──────────────┼───────────┤\n",
       "│ 1   │ 7           │ 5           │ 2003      │ 2003         │ \"Gable\"   │\n",
       "│ 2   │ 6           │ 8           │ 1976      │ 1976         │ \"Gable\"   │\n",
       "│ 3   │ 7           │ 5           │ 2001      │ 2002         │ \"Gable\"   │\n",
       "│ 4   │ 7           │ 5           │ 1915      │ 1970         │ \"Gable\"   │\n",
       "│ 5   │ 8           │ 5           │ 2000      │ 2000         │ \"Gable\"   │\n",
       "│ 6   │ 5           │ 5           │ 1993      │ 1995         │ \"Gable\"   │\n",
       "\n",
       "│ Row │ RoofMatl  │ Exterior1st │ Exterior2nd │ MasVnrType │ MasVnrArea │\n",
       "├─────┼───────────┼─────────────┼─────────────┼────────────┼────────────┤\n",
       "│ 1   │ \"CompShg\" │ \"VinylSd\"   │ \"VinylSd\"   │ \"BrkFace\"  │ 196        │\n",
       "│ 2   │ \"CompShg\" │ \"MetalSd\"   │ \"MetalSd\"   │ \"None\"     │ 0          │\n",
       "│ 3   │ \"CompShg\" │ \"VinylSd\"   │ \"VinylSd\"   │ \"BrkFace\"  │ 162        │\n",
       "│ 4   │ \"CompShg\" │ \"Wd Sdng\"   │ \"Wd Shng\"   │ \"None\"     │ 0          │\n",
       "│ 5   │ \"CompShg\" │ \"VinylSd\"   │ \"VinylSd\"   │ \"BrkFace\"  │ 350        │\n",
       "│ 6   │ \"CompShg\" │ \"VinylSd\"   │ \"VinylSd\"   │ \"None\"     │ 0          │\n",
       "\n",
       "│ Row │ ExterQual │ ExterCond │ Foundation │ BsmtQual │ BsmtCond │\n",
       "├─────┼───────────┼───────────┼────────────┼──────────┼──────────┤\n",
       "│ 1   │ \"Gd\"      │ \"TA\"      │ \"PConc\"    │ \"Gd\"     │ \"TA\"     │\n",
       "│ 2   │ \"TA\"      │ \"TA\"      │ \"CBlock\"   │ \"Gd\"     │ \"TA\"     │\n",
       "│ 3   │ \"Gd\"      │ \"TA\"      │ \"PConc\"    │ \"Gd\"     │ \"TA\"     │\n",
       "│ 4   │ \"TA\"      │ \"TA\"      │ \"BrkTil\"   │ \"TA\"     │ \"Gd\"     │\n",
       "│ 5   │ \"Gd\"      │ \"TA\"      │ \"PConc\"    │ \"Gd\"     │ \"TA\"     │\n",
       "│ 6   │ \"TA\"      │ \"TA\"      │ \"Wood\"     │ \"Gd\"     │ \"TA\"     │\n",
       "\n",
       "│ Row │ BsmtExposure │ BsmtFinType1 │ BsmtFinSF1 │ BsmtFinType2 │ BsmtFinSF2 │\n",
       "├─────┼──────────────┼──────────────┼────────────┼──────────────┼────────────┤\n",
       "│ 1   │ \"No\"         │ \"GLQ\"        │ 706        │ \"Unf\"        │ 0          │\n",
       "│ 2   │ \"Gd\"         │ \"ALQ\"        │ 978        │ \"Unf\"        │ 0          │\n",
       "│ 3   │ \"Mn\"         │ \"GLQ\"        │ 486        │ \"Unf\"        │ 0          │\n",
       "│ 4   │ \"No\"         │ \"ALQ\"        │ 216        │ \"Unf\"        │ 0          │\n",
       "│ 5   │ \"Av\"         │ \"GLQ\"        │ 655        │ \"Unf\"        │ 0          │\n",
       "│ 6   │ \"No\"         │ \"GLQ\"        │ 732        │ \"Unf\"        │ 0          │\n",
       "\n",
       "│ Row │ BsmtUnfSF │ TotalBsmtSF │ Heating │ HeatingQC │ CentralAir │\n",
       "├─────┼───────────┼─────────────┼─────────┼───────────┼────────────┤\n",
       "│ 1   │ 150       │ 856         │ \"GasA\"  │ \"Ex\"      │ \"Y\"        │\n",
       "│ 2   │ 284       │ 1262        │ \"GasA\"  │ \"Ex\"      │ \"Y\"        │\n",
       "│ 3   │ 434       │ 920         │ \"GasA\"  │ \"Ex\"      │ \"Y\"        │\n",
       "│ 4   │ 540       │ 756         │ \"GasA\"  │ \"Gd\"      │ \"Y\"        │\n",
       "│ 5   │ 490       │ 1145        │ \"GasA\"  │ \"Ex\"      │ \"Y\"        │\n",
       "│ 6   │ 64        │ 796         │ \"GasA\"  │ \"Ex\"      │ \"Y\"        │\n",
       "\n",
       "│ Row │ Electrical │ x1stFlrSF │ x2ndFlrSF │ LowQualFinSF │ GrLivArea │\n",
       "├─────┼────────────┼───────────┼───────────┼──────────────┼───────────┤\n",
       "│ 1   │ \"SBrkr\"    │ 856       │ 854       │ 0            │ 1710      │\n",
       "│ 2   │ \"SBrkr\"    │ 1262      │ 0         │ 0            │ 1262      │\n",
       "│ 3   │ \"SBrkr\"    │ 920       │ 866       │ 0            │ 1786      │\n",
       "│ 4   │ \"SBrkr\"    │ 961       │ 756       │ 0            │ 1717      │\n",
       "│ 5   │ \"SBrkr\"    │ 1145      │ 1053      │ 0            │ 2198      │\n",
       "│ 6   │ \"SBrkr\"    │ 796       │ 566       │ 0            │ 1362      │\n",
       "\n",
       "│ Row │ BsmtFullBath │ BsmtHalfBath │ FullBath │ HalfBath │ BedroomAbvGr │\n",
       "├─────┼──────────────┼──────────────┼──────────┼──────────┼──────────────┤\n",
       "│ 1   │ 1            │ 0            │ 2        │ 1        │ 3            │\n",
       "│ 2   │ 0            │ 1            │ 2        │ 0        │ 3            │\n",
       "│ 3   │ 1            │ 0            │ 2        │ 1        │ 3            │\n",
       "│ 4   │ 1            │ 0            │ 1        │ 0        │ 3            │\n",
       "│ 5   │ 1            │ 0            │ 2        │ 1        │ 4            │\n",
       "│ 6   │ 1            │ 0            │ 1        │ 1        │ 1            │\n",
       "\n",
       "│ Row │ KitchenAbvGr │ KitchenQual │ TotRmsAbvGrd │ Functional │ Fireplaces │\n",
       "├─────┼──────────────┼─────────────┼──────────────┼────────────┼────────────┤\n",
       "│ 1   │ 1            │ \"Gd\"        │ 8            │ \"Typ\"      │ 0          │\n",
       "│ 2   │ 1            │ \"TA\"        │ 6            │ \"Typ\"      │ 1          │\n",
       "│ 3   │ 1            │ \"Gd\"        │ 6            │ \"Typ\"      │ 1          │\n",
       "│ 4   │ 1            │ \"Gd\"        │ 7            │ \"Typ\"      │ 1          │\n",
       "│ 5   │ 1            │ \"Gd\"        │ 9            │ \"Typ\"      │ 1          │\n",
       "│ 6   │ 1            │ \"TA\"        │ 5            │ \"Typ\"      │ 0          │\n",
       "\n",
       "│ Row │ FireplaceQu │ GarageType │ GarageYrBlt │ GarageFinish │ GarageCars │\n",
       "├─────┼─────────────┼────────────┼─────────────┼──────────────┼────────────┤\n",
       "│ 1   │ NA          │ \"Attchd\"   │ 2003        │ \"RFn\"        │ 2          │\n",
       "│ 2   │ \"TA\"        │ \"Attchd\"   │ 1976        │ \"RFn\"        │ 2          │\n",
       "│ 3   │ \"TA\"        │ \"Attchd\"   │ 2001        │ \"RFn\"        │ 2          │\n",
       "│ 4   │ \"Gd\"        │ \"Detchd\"   │ 1998        │ \"Unf\"        │ 3          │\n",
       "│ 5   │ \"TA\"        │ \"Attchd\"   │ 2000        │ \"RFn\"        │ 3          │\n",
       "│ 6   │ NA          │ \"Attchd\"   │ 1993        │ \"Unf\"        │ 2          │\n",
       "\n",
       "│ Row │ GarageArea │ GarageQual │ GarageCond │ PavedDrive │ WoodDeckSF │\n",
       "├─────┼────────────┼────────────┼────────────┼────────────┼────────────┤\n",
       "│ 1   │ 548        │ \"TA\"       │ \"TA\"       │ \"Y\"        │ 0          │\n",
       "│ 2   │ 460        │ \"TA\"       │ \"TA\"       │ \"Y\"        │ 298        │\n",
       "│ 3   │ 608        │ \"TA\"       │ \"TA\"       │ \"Y\"        │ 0          │\n",
       "│ 4   │ 642        │ \"TA\"       │ \"TA\"       │ \"Y\"        │ 0          │\n",
       "│ 5   │ 836        │ \"TA\"       │ \"TA\"       │ \"Y\"        │ 192        │\n",
       "│ 6   │ 480        │ \"TA\"       │ \"TA\"       │ \"Y\"        │ 40         │\n",
       "\n",
       "│ Row │ OpenPorchSF │ EnclosedPorch │ x3SsnPorch │ ScreenPorch │ PoolArea │\n",
       "├─────┼─────────────┼───────────────┼────────────┼─────────────┼──────────┤\n",
       "│ 1   │ 61          │ 0             │ 0          │ 0           │ 0        │\n",
       "│ 2   │ 0           │ 0             │ 0          │ 0           │ 0        │\n",
       "│ 3   │ 42          │ 0             │ 0          │ 0           │ 0        │\n",
       "│ 4   │ 35          │ 272           │ 0          │ 0           │ 0        │\n",
       "│ 5   │ 84          │ 0             │ 0          │ 0           │ 0        │\n",
       "│ 6   │ 30          │ 0             │ 320        │ 0           │ 0        │\n",
       "\n",
       "│ Row │ PoolQC │ Fence   │ MiscFeature │ MiscVal │ MoSold │ YrSold │ SaleType │\n",
       "├─────┼────────┼─────────┼─────────────┼─────────┼────────┼────────┼──────────┤\n",
       "│ 1   │ NA     │ NA      │ NA          │ 0       │ 2      │ 2008   │ \"WD\"     │\n",
       "│ 2   │ NA     │ NA      │ NA          │ 0       │ 5      │ 2007   │ \"WD\"     │\n",
       "│ 3   │ NA     │ NA      │ NA          │ 0       │ 9      │ 2008   │ \"WD\"     │\n",
       "│ 4   │ NA     │ NA      │ NA          │ 0       │ 2      │ 2006   │ \"WD\"     │\n",
       "│ 5   │ NA     │ NA      │ NA          │ 0       │ 12     │ 2008   │ \"WD\"     │\n",
       "│ 6   │ NA     │ \"MnPrv\" │ \"Shed\"      │ 700     │ 10     │ 2009   │ \"WD\"     │\n",
       "\n",
       "│ Row │ SaleCondition │ SalePrice │\n",
       "├─────┼───────────────┼───────────┤\n",
       "│ 1   │ \"Normal\"      │ 208500    │\n",
       "│ 2   │ \"Normal\"      │ 181500    │\n",
       "│ 3   │ \"Normal\"      │ 223500    │\n",
       "│ 4   │ \"Abnorml\"     │ 140000    │\n",
       "│ 5   │ \"Normal\"      │ 250000    │\n",
       "│ 6   │ \"Normal\"      │ 143000    │"
      ]
     },
     "execution_count": 1,
     "metadata": {},
     "output_type": "execute_result"
    }
   ],
   "source": [
    "push!(LOAD_PATH, pwd()) # Allow loading of modules from current directory \n",
    "using DataFrames, Preprocess\n",
    "\n",
    "train = readtable(\"0.kaggle/train.csv\")\n",
    "test = readtable(\"0.kaggle/test.csv\")\n",
    "combined = vcat(train,test)\n",
    "head(combined)"
   ]
  },
  {
   "cell_type": "code",
   "execution_count": 2,
   "metadata": {
    "collapsed": false
   },
   "outputs": [],
   "source": [
    "combined[:MSSubClass] = map(combined[:MSSubClass]) do x\n",
    "    string(\"__\", x)\n",
    "end\n",
    "combined[:MSSubClass]  = convert(DataArrays.DataArray{String,1}, combined[:MSSubClass]);"
   ]
  },
  {
   "cell_type": "markdown",
   "metadata": {
    "collapsed": true
   },
   "source": [
    "N.B. Alternatively, we could have reviewed the datatypes using the interactive function `review_ordinals!`.\n",
    "\n",
    "## Appraising the quality of the data\n",
    "The third column in the data frame constructed below shows the number of NA's in each field. Other columns give an idea of how they are distributed within the data. This information guides subsequent cleaning below. The various fields are described further [here](0.kaggle/data_summary.md). (To see the full list of field meta data, remove the second line below.)"
   ]
  },
  {
   "cell_type": "code",
   "execution_count": 3,
   "metadata": {
    "collapsed": false
   },
   "outputs": [
    {
     "data": {
      "text/html": [
       "<table class=\"data-frame\"><thead><tr><th></th><th>field</th><th>type</th><th>n_values</th><th>n_nas</th><th>percent_nas</th><th>row_of_first_non_na</th><th>nas_after_first_non_na</th></tr></thead><tbody><tr><th>1</th><td>Id</td><td>Int64</td><td>2919</td><td>0</td><td>0.0</td><td>1</td><td>0</td></tr><tr><th>2</th><td>MSSubClass</td><td>String</td><td>16</td><td>0</td><td>0.0</td><td>1</td><td>0</td></tr><tr><th>3</th><td>MSZoning</td><td>String</td><td>6</td><td>4</td><td>0.1</td><td>1</td><td>4</td></tr><tr><th>4</th><td>LotFrontage</td><td>Int64</td><td>129</td><td>486</td><td>16.6</td><td>1</td><td>486</td></tr><tr><th>5</th><td>LotArea</td><td>Int64</td><td>1951</td><td>0</td><td>0.0</td><td>1</td><td>0</td></tr><tr><th>6</th><td>Street</td><td>String</td><td>2</td><td>0</td><td>0.0</td><td>1</td><td>0</td></tr></tbody></table>"
      ],
      "text/plain": [
       "6×7 DataFrames.DataFrame\n",
       "│ Row │ field       │ type   │ n_values │ n_nas │ percent_nas │\n",
       "├─────┼─────────────┼────────┼──────────┼───────┼─────────────┤\n",
       "│ 1   │ Id          │ Int64  │ 2919     │ 0     │ 0.0         │\n",
       "│ 2   │ MSSubClass  │ String │ 16       │ 0     │ 0.0         │\n",
       "│ 3   │ MSZoning    │ String │ 6        │ 4     │ 0.1         │\n",
       "│ 4   │ LotFrontage │ Int64  │ 129      │ 486   │ 16.6        │\n",
       "│ 5   │ LotArea     │ Int64  │ 1951     │ 0     │ 0.0         │\n",
       "│ 6   │ Street      │ String │ 2        │ 0     │ 0.0         │\n",
       "\n",
       "│ Row │ row_of_first_non_na │ nas_after_first_non_na │\n",
       "├─────┼─────────────────────┼────────────────────────┤\n",
       "│ 1   │ 1                   │ 0                      │\n",
       "│ 2   │ 1                   │ 0                      │\n",
       "│ 3   │ 1                   │ 4                      │\n",
       "│ 4   │ 1                   │ 486                    │\n",
       "│ 5   │ 1                   │ 0                      │\n",
       "│ 6   │ 1                   │ 0                      │"
      ]
     },
     "execution_count": 3,
     "metadata": {},
     "output_type": "execute_result"
    }
   ],
   "source": [
    "meta = get_meta(combined)\n",
    "head(meta)"
   ]
  },
  {
   "cell_type": "markdown",
   "metadata": {},
   "source": [
    "## Determining outliers\n",
    "\n",
    "The following plot reveals two properties with huge living area but sale prices around the median value. "
   ]
  },
  {
   "cell_type": "code",
   "execution_count": 4,
   "metadata": {
    "collapsed": false
   },
   "outputs": [
    {
     "data": {
      "text/html": [
       "<img src=\"data:image/png;base64,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\" />"
      ]
     },
     "execution_count": 4,
     "metadata": {},
     "output_type": "execute_result"
    }
   ],
   "source": [
    "using Plots\n",
    "pyplot()\n",
    "\n",
    "scatter(train[:GrLivArea], train[:SalePrice], markersize=1.5)"
   ]
  },
  {
   "cell_type": "code",
   "execution_count": 5,
   "metadata": {
    "collapsed": false
   },
   "outputs": [
    {
     "data": {
      "text/plain": [
       "163000.0"
      ]
     },
     "execution_count": 5,
     "metadata": {},
     "output_type": "execute_result"
    }
   ],
   "source": [
    "median(train[:SalePrice])"
   ]
  },
  {
   "cell_type": "markdown",
   "metadata": {},
   "source": [
    "We remove these from the data and record the new size of our combined data set (`Id=1461` is the first pattern in the test portion of the data):"
   ]
  },
  {
   "cell_type": "code",
   "execution_count": 6,
   "metadata": {
    "collapsed": false
   },
   "outputs": [
    {
     "data": {
      "text/plain": [
       "(2915,81)"
      ]
     },
     "execution_count": 6,
     "metadata": {},
     "output_type": "execute_result"
    }
   ],
   "source": [
    "mask_bad = (combined[:GrLivArea] .> 4000) .* (combined[:Id] .< 1461)\n",
    "mask_good = !mask_bad\n",
    "combined = combined[mask_good,:]\n",
    "\n",
    "nrows, ncols = size(combined)"
   ]
  },
  {
   "cell_type": "markdown",
   "metadata": {},
   "source": [
    "## Cleaning"
   ]
  },
  {
   "cell_type": "markdown",
   "metadata": {},
   "source": [
    "According to the [documentation](0.kaggle/detailed_documentation.txt), \"NA\" in `:Alley` means \"no access\" not \"unknown value\". Correct this:"
   ]
  },
  {
   "cell_type": "code",
   "execution_count": 7,
   "metadata": {
    "collapsed": false
   },
   "outputs": [],
   "source": [
    "combined[:Alley] = convert(Array, combined[:Alley], \"NoAccess\");"
   ]
  },
  {
   "cell_type": "markdown",
   "metadata": {},
   "source": [
    "Similar remarks apply to other fields:"
   ]
  },
  {
   "cell_type": "code",
   "execution_count": 8,
   "metadata": {
    "collapsed": false
   },
   "outputs": [],
   "source": [
    "combined[:PoolQC] = convert(Array, combined[:PoolQC], \"None\")\n",
    "combined[:MiscFeature] = convert(Array, combined[:MiscFeature], \"None\")\n",
    "combined[:Fence] = convert(Array, combined[:Fence], \"None\")\n",
    "combined[:FireplaceQu] = convert(Array, combined[:FireplaceQu], \"None\")\n",
    "combined[:Functional] = convert(Array, combined[:Functional], \"Typ\");"
   ]
  },
  {
   "cell_type": "markdown",
   "metadata": {},
   "source": [
    "We dump ordinal fields with more than 50% NAs. (Note that `.*` is broadcast version of logical AND.)"
   ]
  },
  {
   "cell_type": "code",
   "execution_count": 9,
   "metadata": {
    "collapsed": false
   },
   "outputs": [],
   "source": [
    "bad_fields = meta[(meta[:percent_nas] .> 50) .* (meta[:type] .!= String), :field]\n",
    "bad_fields = collect(bad_fields)\n",
    "filter!(x -> x != :SalePrice, bad_fields) # exclude target variable which is undefined in test portion of data\n",
    "delete!(combined, bad_fields);"
   ]
  },
  {
   "cell_type": "markdown",
   "metadata": {},
   "source": [
    "Dump categorical fields with more than 80% NAs:"
   ]
  },
  {
   "cell_type": "code",
   "execution_count": 10,
   "metadata": {
    "collapsed": false
   },
   "outputs": [],
   "source": [
    "bad_fields = meta[(meta[:percent_nas] .> 80) .* (meta[:type] .== String), :field]\n",
    "delete!(combined, bad_fields);"
   ]
  },
  {
   "cell_type": "markdown",
   "metadata": {},
   "source": [
    "Make \"NA\" a genuine value in remaining categoricals:"
   ]
  },
  {
   "cell_type": "code",
   "execution_count": 11,
   "metadata": {
    "collapsed": false
   },
   "outputs": [],
   "source": [
    "for f in names(combined)\n",
    "    if eltype(combined[f]) == String\n",
    "        combined[f] = convert(Array{String,1}, combined[f], \"_NA\")\n",
    "    end\n",
    "end"
   ]
  },
  {
   "cell_type": "markdown",
   "metadata": {},
   "source": [
    "To clean `LotFrontage` we shall suppose that, within each neighborhood,  `:LotFrontage` (which is measured in linear feet) correlates roughly with the *square root* of `:LotArea` (measured in square feet). So  letting `ratio` refers to `:LotFrontage/sqrt(:LotArea)` we begin by finding the median value of `ratio` in each neighborhood and storing this in a dictionary:"
   ]
  },
  {
   "cell_type": "code",
   "execution_count": 12,
   "metadata": {
    "collapsed": true
   },
   "outputs": [],
   "source": [
    "temp = by(combined, [:Neighborhood], df -> median(dropna(df[:LotFrontage]./sqrt(df[:LotArea]))))\n",
    "ratio = Dict{String,Float64}()\n",
    "for i in 1:first(size(temp))\n",
    "    ratio[temp[i,:Neighborhood]]=temp[i,:x1]\n",
    "end"
   ]
  },
  {
   "cell_type": "markdown",
   "metadata": {},
   "source": [
    "We now use this ratio to imputate NA values in `:LotFrontage`:"
   ]
  },
  {
   "cell_type": "code",
   "execution_count": 13,
   "metadata": {
    "collapsed": true
   },
   "outputs": [],
   "source": [
    "combined[:LotFrontage] =  convert(DataArray{Float64,1}, combined[:LotFrontage])\n",
    "for i in 1:nrows\n",
    "    if isna(combined[i,:LotFrontage])\n",
    "        combined[i,:LotFrontage] = ratio[combined[i,:Neighborhood]]*sqrt(combined[i,:LotArea])\n",
    "    end\n",
    "end"
   ]
  },
  {
   "cell_type": "markdown",
   "metadata": {},
   "source": [
    "Drop `:Utilities` as the field is virtually constant:"
   ]
  },
  {
   "cell_type": "code",
   "execution_count": 14,
   "metadata": {
    "collapsed": false
   },
   "outputs": [],
   "source": [
    "delete!(combined, :Utilities);"
   ]
  },
  {
   "cell_type": "markdown",
   "metadata": {},
   "source": [
    "We replace `MasVnrArea` (Masonry Veneer area) NAs with zeros:"
   ]
  },
  {
   "cell_type": "code",
   "execution_count": 15,
   "metadata": {
    "collapsed": false
   },
   "outputs": [],
   "source": [
    "combined[:MasVnrArea] = convert(Array, combined[:MasVnrArea], 0.0);"
   ]
  },
  {
   "cell_type": "markdown",
   "metadata": {},
   "source": [
    "Remaining NAs are replaced with median values:"
   ]
  },
  {
   "cell_type": "code",
   "execution_count": 16,
   "metadata": {
    "collapsed": false
   },
   "outputs": [],
   "source": [
    "meta = get_meta(combined)\n",
    "fields_to_fix = collect(meta[meta[:n_nas] .> 0,:][:field])\n",
    "filter!(x -> x != :SalePrice, fields_to_fix) # exclude target variable\n",
    "for f in fields_to_fix\n",
    "    m = median(dropna(combined[f]))\n",
    "    combined[f] = convert(Array{Float64, 1}, combined[f], m)\n",
    "end"
   ]
  },
  {
   "cell_type": "markdown",
   "metadata": {},
   "source": [
    "It turns out `:MSSubClass` takes on a value in the test set not appearing\n",
    "in the train set. We replace it with the mode value:"
   ]
  },
  {
   "cell_type": "code",
   "execution_count": 17,
   "metadata": {
    "collapsed": false
   },
   "outputs": [],
   "source": [
    "combined[:MSSubClass] = map(combined[:MSSubClass]) do x \n",
    "    x == \"_150\" ? \"_20\" : x\n",
    "end;"
   ]
  },
  {
   "cell_type": "markdown",
   "metadata": {},
   "source": [
    "## Transforming the target variable\n",
    "As we shall be optimizing our models to minimize log-root-mean-squared error, it is convenient to replace the target variable in our modelling, `:SalePrice`, with its logarithm:"
   ]
  },
  {
   "cell_type": "code",
   "execution_count": 18,
   "metadata": {
    "collapsed": false
   },
   "outputs": [],
   "source": [
    "combined[:target] = log(combined[:SalePrice])\n",
    "delete!(combined, :SalePrice);"
   ]
  },
  {
   "cell_type": "markdown",
   "metadata": {},
   "source": [
    "## Saving the cleaned data to file"
   ]
  },
  {
   "cell_type": "code",
   "execution_count": 19,
   "metadata": {
    "collapsed": true
   },
   "outputs": [],
   "source": [
    "train = combined[!isna(combined[:target]),:]\n",
    "test = combined[isna(combined[:target]),:]\n",
    "    \n",
    "writetable(\"2.cleaned/combined.csv\", combined)\n",
    "writetable(\"2.cleaned/train.csv\", train)\n",
    "writetable(\"2.cleaned/test.csv\", test)"
   ]
  },
  {
   "cell_type": "code",
   "execution_count": null,
   "metadata": {
    "collapsed": true
   },
   "outputs": [],
   "source": []
  }
 ],
 "metadata": {
  "kernelspec": {
   "display_name": "Julia 0.5.2",
   "language": "julia",
   "name": "julia-0.5"
  },
  "language_info": {
   "file_extension": ".jl",
   "mimetype": "application/julia",
   "name": "julia",
   "version": "0.5.2"
  }
 },
 "nbformat": 4,
 "nbformat_minor": 2
}
