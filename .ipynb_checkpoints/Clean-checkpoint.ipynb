{
 "cells": [
  {
   "cell_type": "markdown",
   "metadata": {
    "collapsed": true
   },
   "source": [
    "# Ames House Price Data - Data Cleaning\n",
    "\n",
    "> Juptyer notebook, running a Julia 0.5.2 kernel, with the help of Machine Learning modules written by the author\n",
    "\n",
    "*This notebook describes cleaning of the data. Additional model-dependent transformations to the data (eg, Cox-Box transformations and one-hot encodings for linear models) are described in the notebook for the relevant model.*\n",
    "\n",
    "## Reviewing data types\n",
    "\n",
    "Some of our models are able to handle categorical and ordinal data simultaneously. These models will expect categorical data to be of `String` or `Char` type. In the house price data the attribute `MSSubClass` (building class) is categorical but is represented by an `Int` datatype. We fix this now, after loading the data:"
   ]
  },
  {
   "cell_type": "code",
   "execution_count": 58,
   "metadata": {
    "collapsed": false
   },
   "outputs": [
    {
     "data": {
      "text/html": [
       "<table class=\"data-frame\"><thead><tr><th></th><th>Id</th><th>MSSubClass</th><th>MSZoning</th><th>LotFrontage</th><th>LotArea</th><th>Street</th><th>Alley</th><th>LotShape</th><th>LandContour</th><th>Utilities</th><th>LotConfig</th><th>LandSlope</th><th>Neighborhood</th><th>Condition1</th><th>Condition2</th><th>BldgType</th><th>HouseStyle</th><th>OverallQual</th><th>OverallCond</th><th>YearBuilt</th><th>YearRemodAdd</th><th>RoofStyle</th><th>RoofMatl</th><th>Exterior1st</th><th>Exterior2nd</th><th>MasVnrType</th><th>MasVnrArea</th><th>ExterQual</th><th>ExterCond</th><th>Foundation</th><th>BsmtQual</th><th>BsmtCond</th><th>BsmtExposure</th><th>BsmtFinType1</th><th>BsmtFinSF1</th><th>BsmtFinType2</th><th>BsmtFinSF2</th><th>BsmtUnfSF</th><th>TotalBsmtSF</th><th>Heating</th><th>HeatingQC</th><th>CentralAir</th><th>Electrical</th><th>x1stFlrSF</th><th>x2ndFlrSF</th><th>LowQualFinSF</th><th>GrLivArea</th><th>BsmtFullBath</th><th>BsmtHalfBath</th><th>FullBath</th><th>HalfBath</th><th>BedroomAbvGr</th><th>KitchenAbvGr</th><th>KitchenQual</th><th>TotRmsAbvGrd</th><th>Functional</th><th>Fireplaces</th><th>FireplaceQu</th><th>GarageType</th><th>GarageYrBlt</th><th>GarageFinish</th><th>GarageCars</th><th>GarageArea</th><th>GarageQual</th><th>GarageCond</th><th>PavedDrive</th><th>WoodDeckSF</th><th>OpenPorchSF</th><th>EnclosedPorch</th><th>x3SsnPorch</th><th>ScreenPorch</th><th>PoolArea</th><th>PoolQC</th><th>Fence</th><th>MiscFeature</th><th>MiscVal</th><th>MoSold</th><th>YrSold</th><th>SaleType</th><th>SaleCondition</th><th>SalePrice</th></tr></thead><tbody><tr><th>1</th><td>1</td><td>60</td><td>RL</td><td>65</td><td>8450</td><td>Pave</td><td>NA</td><td>Reg</td><td>Lvl</td><td>AllPub</td><td>Inside</td><td>Gtl</td><td>CollgCr</td><td>Norm</td><td>Norm</td><td>1Fam</td><td>2Story</td><td>7</td><td>5</td><td>2003</td><td>2003</td><td>Gable</td><td>CompShg</td><td>VinylSd</td><td>VinylSd</td><td>BrkFace</td><td>196</td><td>Gd</td><td>TA</td><td>PConc</td><td>Gd</td><td>TA</td><td>No</td><td>GLQ</td><td>706</td><td>Unf</td><td>0</td><td>150</td><td>856</td><td>GasA</td><td>Ex</td><td>Y</td><td>SBrkr</td><td>856</td><td>854</td><td>0</td><td>1710</td><td>1</td><td>0</td><td>2</td><td>1</td><td>3</td><td>1</td><td>Gd</td><td>8</td><td>Typ</td><td>0</td><td>NA</td><td>Attchd</td><td>2003</td><td>RFn</td><td>2</td><td>548</td><td>TA</td><td>TA</td><td>Y</td><td>0</td><td>61</td><td>0</td><td>0</td><td>0</td><td>0</td><td>NA</td><td>NA</td><td>NA</td><td>0</td><td>2</td><td>2008</td><td>WD</td><td>Normal</td><td>208500</td></tr><tr><th>2</th><td>2</td><td>20</td><td>RL</td><td>80</td><td>9600</td><td>Pave</td><td>NA</td><td>Reg</td><td>Lvl</td><td>AllPub</td><td>FR2</td><td>Gtl</td><td>Veenker</td><td>Feedr</td><td>Norm</td><td>1Fam</td><td>1Story</td><td>6</td><td>8</td><td>1976</td><td>1976</td><td>Gable</td><td>CompShg</td><td>MetalSd</td><td>MetalSd</td><td>None</td><td>0</td><td>TA</td><td>TA</td><td>CBlock</td><td>Gd</td><td>TA</td><td>Gd</td><td>ALQ</td><td>978</td><td>Unf</td><td>0</td><td>284</td><td>1262</td><td>GasA</td><td>Ex</td><td>Y</td><td>SBrkr</td><td>1262</td><td>0</td><td>0</td><td>1262</td><td>0</td><td>1</td><td>2</td><td>0</td><td>3</td><td>1</td><td>TA</td><td>6</td><td>Typ</td><td>1</td><td>TA</td><td>Attchd</td><td>1976</td><td>RFn</td><td>2</td><td>460</td><td>TA</td><td>TA</td><td>Y</td><td>298</td><td>0</td><td>0</td><td>0</td><td>0</td><td>0</td><td>NA</td><td>NA</td><td>NA</td><td>0</td><td>5</td><td>2007</td><td>WD</td><td>Normal</td><td>181500</td></tr><tr><th>3</th><td>3</td><td>60</td><td>RL</td><td>68</td><td>11250</td><td>Pave</td><td>NA</td><td>IR1</td><td>Lvl</td><td>AllPub</td><td>Inside</td><td>Gtl</td><td>CollgCr</td><td>Norm</td><td>Norm</td><td>1Fam</td><td>2Story</td><td>7</td><td>5</td><td>2001</td><td>2002</td><td>Gable</td><td>CompShg</td><td>VinylSd</td><td>VinylSd</td><td>BrkFace</td><td>162</td><td>Gd</td><td>TA</td><td>PConc</td><td>Gd</td><td>TA</td><td>Mn</td><td>GLQ</td><td>486</td><td>Unf</td><td>0</td><td>434</td><td>920</td><td>GasA</td><td>Ex</td><td>Y</td><td>SBrkr</td><td>920</td><td>866</td><td>0</td><td>1786</td><td>1</td><td>0</td><td>2</td><td>1</td><td>3</td><td>1</td><td>Gd</td><td>6</td><td>Typ</td><td>1</td><td>TA</td><td>Attchd</td><td>2001</td><td>RFn</td><td>2</td><td>608</td><td>TA</td><td>TA</td><td>Y</td><td>0</td><td>42</td><td>0</td><td>0</td><td>0</td><td>0</td><td>NA</td><td>NA</td><td>NA</td><td>0</td><td>9</td><td>2008</td><td>WD</td><td>Normal</td><td>223500</td></tr><tr><th>4</th><td>4</td><td>70</td><td>RL</td><td>60</td><td>9550</td><td>Pave</td><td>NA</td><td>IR1</td><td>Lvl</td><td>AllPub</td><td>Corner</td><td>Gtl</td><td>Crawfor</td><td>Norm</td><td>Norm</td><td>1Fam</td><td>2Story</td><td>7</td><td>5</td><td>1915</td><td>1970</td><td>Gable</td><td>CompShg</td><td>Wd Sdng</td><td>Wd Shng</td><td>None</td><td>0</td><td>TA</td><td>TA</td><td>BrkTil</td><td>TA</td><td>Gd</td><td>No</td><td>ALQ</td><td>216</td><td>Unf</td><td>0</td><td>540</td><td>756</td><td>GasA</td><td>Gd</td><td>Y</td><td>SBrkr</td><td>961</td><td>756</td><td>0</td><td>1717</td><td>1</td><td>0</td><td>1</td><td>0</td><td>3</td><td>1</td><td>Gd</td><td>7</td><td>Typ</td><td>1</td><td>Gd</td><td>Detchd</td><td>1998</td><td>Unf</td><td>3</td><td>642</td><td>TA</td><td>TA</td><td>Y</td><td>0</td><td>35</td><td>272</td><td>0</td><td>0</td><td>0</td><td>NA</td><td>NA</td><td>NA</td><td>0</td><td>2</td><td>2006</td><td>WD</td><td>Abnorml</td><td>140000</td></tr><tr><th>5</th><td>5</td><td>60</td><td>RL</td><td>84</td><td>14260</td><td>Pave</td><td>NA</td><td>IR1</td><td>Lvl</td><td>AllPub</td><td>FR2</td><td>Gtl</td><td>NoRidge</td><td>Norm</td><td>Norm</td><td>1Fam</td><td>2Story</td><td>8</td><td>5</td><td>2000</td><td>2000</td><td>Gable</td><td>CompShg</td><td>VinylSd</td><td>VinylSd</td><td>BrkFace</td><td>350</td><td>Gd</td><td>TA</td><td>PConc</td><td>Gd</td><td>TA</td><td>Av</td><td>GLQ</td><td>655</td><td>Unf</td><td>0</td><td>490</td><td>1145</td><td>GasA</td><td>Ex</td><td>Y</td><td>SBrkr</td><td>1145</td><td>1053</td><td>0</td><td>2198</td><td>1</td><td>0</td><td>2</td><td>1</td><td>4</td><td>1</td><td>Gd</td><td>9</td><td>Typ</td><td>1</td><td>TA</td><td>Attchd</td><td>2000</td><td>RFn</td><td>3</td><td>836</td><td>TA</td><td>TA</td><td>Y</td><td>192</td><td>84</td><td>0</td><td>0</td><td>0</td><td>0</td><td>NA</td><td>NA</td><td>NA</td><td>0</td><td>12</td><td>2008</td><td>WD</td><td>Normal</td><td>250000</td></tr><tr><th>6</th><td>6</td><td>50</td><td>RL</td><td>85</td><td>14115</td><td>Pave</td><td>NA</td><td>IR1</td><td>Lvl</td><td>AllPub</td><td>Inside</td><td>Gtl</td><td>Mitchel</td><td>Norm</td><td>Norm</td><td>1Fam</td><td>1.5Fin</td><td>5</td><td>5</td><td>1993</td><td>1995</td><td>Gable</td><td>CompShg</td><td>VinylSd</td><td>VinylSd</td><td>None</td><td>0</td><td>TA</td><td>TA</td><td>Wood</td><td>Gd</td><td>TA</td><td>No</td><td>GLQ</td><td>732</td><td>Unf</td><td>0</td><td>64</td><td>796</td><td>GasA</td><td>Ex</td><td>Y</td><td>SBrkr</td><td>796</td><td>566</td><td>0</td><td>1362</td><td>1</td><td>0</td><td>1</td><td>1</td><td>1</td><td>1</td><td>TA</td><td>5</td><td>Typ</td><td>0</td><td>NA</td><td>Attchd</td><td>1993</td><td>Unf</td><td>2</td><td>480</td><td>TA</td><td>TA</td><td>Y</td><td>40</td><td>30</td><td>0</td><td>320</td><td>0</td><td>0</td><td>NA</td><td>MnPrv</td><td>Shed</td><td>700</td><td>10</td><td>2009</td><td>WD</td><td>Normal</td><td>143000</td></tr></tbody></table>"
      ],
      "text/plain": [
       "6×81 DataFrames.DataFrame\n",
       "│ Row │ Id │ MSSubClass │ MSZoning │ LotFrontage │ LotArea │ Street │ Alley │\n",
       "├─────┼────┼────────────┼──────────┼─────────────┼─────────┼────────┼───────┤\n",
       "│ 1   │ 1  │ 60         │ \"RL\"     │ 65          │ 8450    │ \"Pave\" │ NA    │\n",
       "│ 2   │ 2  │ 20         │ \"RL\"     │ 80          │ 9600    │ \"Pave\" │ NA    │\n",
       "│ 3   │ 3  │ 60         │ \"RL\"     │ 68          │ 11250   │ \"Pave\" │ NA    │\n",
       "│ 4   │ 4  │ 70         │ \"RL\"     │ 60          │ 9550    │ \"Pave\" │ NA    │\n",
       "│ 5   │ 5  │ 60         │ \"RL\"     │ 84          │ 14260   │ \"Pave\" │ NA    │\n",
       "│ 6   │ 6  │ 50         │ \"RL\"     │ 85          │ 14115   │ \"Pave\" │ NA    │\n",
       "\n",
       "│ Row │ LotShape │ LandContour │ Utilities │ LotConfig │ LandSlope │\n",
       "├─────┼──────────┼─────────────┼───────────┼───────────┼───────────┤\n",
       "│ 1   │ \"Reg\"    │ \"Lvl\"       │ \"AllPub\"  │ \"Inside\"  │ \"Gtl\"     │\n",
       "│ 2   │ \"Reg\"    │ \"Lvl\"       │ \"AllPub\"  │ \"FR2\"     │ \"Gtl\"     │\n",
       "│ 3   │ \"IR1\"    │ \"Lvl\"       │ \"AllPub\"  │ \"Inside\"  │ \"Gtl\"     │\n",
       "│ 4   │ \"IR1\"    │ \"Lvl\"       │ \"AllPub\"  │ \"Corner\"  │ \"Gtl\"     │\n",
       "│ 5   │ \"IR1\"    │ \"Lvl\"       │ \"AllPub\"  │ \"FR2\"     │ \"Gtl\"     │\n",
       "│ 6   │ \"IR1\"    │ \"Lvl\"       │ \"AllPub\"  │ \"Inside\"  │ \"Gtl\"     │\n",
       "\n",
       "│ Row │ Neighborhood │ Condition1 │ Condition2 │ BldgType │ HouseStyle │\n",
       "├─────┼──────────────┼────────────┼────────────┼──────────┼────────────┤\n",
       "│ 1   │ \"CollgCr\"    │ \"Norm\"     │ \"Norm\"     │ \"1Fam\"   │ \"2Story\"   │\n",
       "│ 2   │ \"Veenker\"    │ \"Feedr\"    │ \"Norm\"     │ \"1Fam\"   │ \"1Story\"   │\n",
       "│ 3   │ \"CollgCr\"    │ \"Norm\"     │ \"Norm\"     │ \"1Fam\"   │ \"2Story\"   │\n",
       "│ 4   │ \"Crawfor\"    │ \"Norm\"     │ \"Norm\"     │ \"1Fam\"   │ \"2Story\"   │\n",
       "│ 5   │ \"NoRidge\"    │ \"Norm\"     │ \"Norm\"     │ \"1Fam\"   │ \"2Story\"   │\n",
       "│ 6   │ \"Mitchel\"    │ \"Norm\"     │ \"Norm\"     │ \"1Fam\"   │ \"1.5Fin\"   │\n",
       "\n",
       "│ Row │ OverallQual │ OverallCond │ YearBuilt │ YearRemodAdd │ RoofStyle │\n",
       "├─────┼─────────────┼─────────────┼───────────┼──────────────┼───────────┤\n",
       "│ 1   │ 7           │ 5           │ 2003      │ 2003         │ \"Gable\"   │\n",
       "│ 2   │ 6           │ 8           │ 1976      │ 1976         │ \"Gable\"   │\n",
       "│ 3   │ 7           │ 5           │ 2001      │ 2002         │ \"Gable\"   │\n",
       "│ 4   │ 7           │ 5           │ 1915      │ 1970         │ \"Gable\"   │\n",
       "│ 5   │ 8           │ 5           │ 2000      │ 2000         │ \"Gable\"   │\n",
       "│ 6   │ 5           │ 5           │ 1993      │ 1995         │ \"Gable\"   │\n",
       "\n",
       "│ Row │ RoofMatl  │ Exterior1st │ Exterior2nd │ MasVnrType │ MasVnrArea │\n",
       "├─────┼───────────┼─────────────┼─────────────┼────────────┼────────────┤\n",
       "│ 1   │ \"CompShg\" │ \"VinylSd\"   │ \"VinylSd\"   │ \"BrkFace\"  │ 196        │\n",
       "│ 2   │ \"CompShg\" │ \"MetalSd\"   │ \"MetalSd\"   │ \"None\"     │ 0          │\n",
       "│ 3   │ \"CompShg\" │ \"VinylSd\"   │ \"VinylSd\"   │ \"BrkFace\"  │ 162        │\n",
       "│ 4   │ \"CompShg\" │ \"Wd Sdng\"   │ \"Wd Shng\"   │ \"None\"     │ 0          │\n",
       "│ 5   │ \"CompShg\" │ \"VinylSd\"   │ \"VinylSd\"   │ \"BrkFace\"  │ 350        │\n",
       "│ 6   │ \"CompShg\" │ \"VinylSd\"   │ \"VinylSd\"   │ \"None\"     │ 0          │\n",
       "\n",
       "│ Row │ ExterQual │ ExterCond │ Foundation │ BsmtQual │ BsmtCond │\n",
       "├─────┼───────────┼───────────┼────────────┼──────────┼──────────┤\n",
       "│ 1   │ \"Gd\"      │ \"TA\"      │ \"PConc\"    │ \"Gd\"     │ \"TA\"     │\n",
       "│ 2   │ \"TA\"      │ \"TA\"      │ \"CBlock\"   │ \"Gd\"     │ \"TA\"     │\n",
       "│ 3   │ \"Gd\"      │ \"TA\"      │ \"PConc\"    │ \"Gd\"     │ \"TA\"     │\n",
       "│ 4   │ \"TA\"      │ \"TA\"      │ \"BrkTil\"   │ \"TA\"     │ \"Gd\"     │\n",
       "│ 5   │ \"Gd\"      │ \"TA\"      │ \"PConc\"    │ \"Gd\"     │ \"TA\"     │\n",
       "│ 6   │ \"TA\"      │ \"TA\"      │ \"Wood\"     │ \"Gd\"     │ \"TA\"     │\n",
       "\n",
       "│ Row │ BsmtExposure │ BsmtFinType1 │ BsmtFinSF1 │ BsmtFinType2 │ BsmtFinSF2 │\n",
       "├─────┼──────────────┼──────────────┼────────────┼──────────────┼────────────┤\n",
       "│ 1   │ \"No\"         │ \"GLQ\"        │ 706        │ \"Unf\"        │ 0          │\n",
       "│ 2   │ \"Gd\"         │ \"ALQ\"        │ 978        │ \"Unf\"        │ 0          │\n",
       "│ 3   │ \"Mn\"         │ \"GLQ\"        │ 486        │ \"Unf\"        │ 0          │\n",
       "│ 4   │ \"No\"         │ \"ALQ\"        │ 216        │ \"Unf\"        │ 0          │\n",
       "│ 5   │ \"Av\"         │ \"GLQ\"        │ 655        │ \"Unf\"        │ 0          │\n",
       "│ 6   │ \"No\"         │ \"GLQ\"        │ 732        │ \"Unf\"        │ 0          │\n",
       "\n",
       "│ Row │ BsmtUnfSF │ TotalBsmtSF │ Heating │ HeatingQC │ CentralAir │\n",
       "├─────┼───────────┼─────────────┼─────────┼───────────┼────────────┤\n",
       "│ 1   │ 150       │ 856         │ \"GasA\"  │ \"Ex\"      │ \"Y\"        │\n",
       "│ 2   │ 284       │ 1262        │ \"GasA\"  │ \"Ex\"      │ \"Y\"        │\n",
       "│ 3   │ 434       │ 920         │ \"GasA\"  │ \"Ex\"      │ \"Y\"        │\n",
       "│ 4   │ 540       │ 756         │ \"GasA\"  │ \"Gd\"      │ \"Y\"        │\n",
       "│ 5   │ 490       │ 1145        │ \"GasA\"  │ \"Ex\"      │ \"Y\"        │\n",
       "│ 6   │ 64        │ 796         │ \"GasA\"  │ \"Ex\"      │ \"Y\"        │\n",
       "\n",
       "│ Row │ Electrical │ x1stFlrSF │ x2ndFlrSF │ LowQualFinSF │ GrLivArea │\n",
       "├─────┼────────────┼───────────┼───────────┼──────────────┼───────────┤\n",
       "│ 1   │ \"SBrkr\"    │ 856       │ 854       │ 0            │ 1710      │\n",
       "│ 2   │ \"SBrkr\"    │ 1262      │ 0         │ 0            │ 1262      │\n",
       "│ 3   │ \"SBrkr\"    │ 920       │ 866       │ 0            │ 1786      │\n",
       "│ 4   │ \"SBrkr\"    │ 961       │ 756       │ 0            │ 1717      │\n",
       "│ 5   │ \"SBrkr\"    │ 1145      │ 1053      │ 0            │ 2198      │\n",
       "│ 6   │ \"SBrkr\"    │ 796       │ 566       │ 0            │ 1362      │\n",
       "\n",
       "│ Row │ BsmtFullBath │ BsmtHalfBath │ FullBath │ HalfBath │ BedroomAbvGr │\n",
       "├─────┼──────────────┼──────────────┼──────────┼──────────┼──────────────┤\n",
       "│ 1   │ 1            │ 0            │ 2        │ 1        │ 3            │\n",
       "│ 2   │ 0            │ 1            │ 2        │ 0        │ 3            │\n",
       "│ 3   │ 1            │ 0            │ 2        │ 1        │ 3            │\n",
       "│ 4   │ 1            │ 0            │ 1        │ 0        │ 3            │\n",
       "│ 5   │ 1            │ 0            │ 2        │ 1        │ 4            │\n",
       "│ 6   │ 1            │ 0            │ 1        │ 1        │ 1            │\n",
       "\n",
       "│ Row │ KitchenAbvGr │ KitchenQual │ TotRmsAbvGrd │ Functional │ Fireplaces │\n",
       "├─────┼──────────────┼─────────────┼──────────────┼────────────┼────────────┤\n",
       "│ 1   │ 1            │ \"Gd\"        │ 8            │ \"Typ\"      │ 0          │\n",
       "│ 2   │ 1            │ \"TA\"        │ 6            │ \"Typ\"      │ 1          │\n",
       "│ 3   │ 1            │ \"Gd\"        │ 6            │ \"Typ\"      │ 1          │\n",
       "│ 4   │ 1            │ \"Gd\"        │ 7            │ \"Typ\"      │ 1          │\n",
       "│ 5   │ 1            │ \"Gd\"        │ 9            │ \"Typ\"      │ 1          │\n",
       "│ 6   │ 1            │ \"TA\"        │ 5            │ \"Typ\"      │ 0          │\n",
       "\n",
       "│ Row │ FireplaceQu │ GarageType │ GarageYrBlt │ GarageFinish │ GarageCars │\n",
       "├─────┼─────────────┼────────────┼─────────────┼──────────────┼────────────┤\n",
       "│ 1   │ NA          │ \"Attchd\"   │ 2003        │ \"RFn\"        │ 2          │\n",
       "│ 2   │ \"TA\"        │ \"Attchd\"   │ 1976        │ \"RFn\"        │ 2          │\n",
       "│ 3   │ \"TA\"        │ \"Attchd\"   │ 2001        │ \"RFn\"        │ 2          │\n",
       "│ 4   │ \"Gd\"        │ \"Detchd\"   │ 1998        │ \"Unf\"        │ 3          │\n",
       "│ 5   │ \"TA\"        │ \"Attchd\"   │ 2000        │ \"RFn\"        │ 3          │\n",
       "│ 6   │ NA          │ \"Attchd\"   │ 1993        │ \"Unf\"        │ 2          │\n",
       "\n",
       "│ Row │ GarageArea │ GarageQual │ GarageCond │ PavedDrive │ WoodDeckSF │\n",
       "├─────┼────────────┼────────────┼────────────┼────────────┼────────────┤\n",
       "│ 1   │ 548        │ \"TA\"       │ \"TA\"       │ \"Y\"        │ 0          │\n",
       "│ 2   │ 460        │ \"TA\"       │ \"TA\"       │ \"Y\"        │ 298        │\n",
       "│ 3   │ 608        │ \"TA\"       │ \"TA\"       │ \"Y\"        │ 0          │\n",
       "│ 4   │ 642        │ \"TA\"       │ \"TA\"       │ \"Y\"        │ 0          │\n",
       "│ 5   │ 836        │ \"TA\"       │ \"TA\"       │ \"Y\"        │ 192        │\n",
       "│ 6   │ 480        │ \"TA\"       │ \"TA\"       │ \"Y\"        │ 40         │\n",
       "\n",
       "│ Row │ OpenPorchSF │ EnclosedPorch │ x3SsnPorch │ ScreenPorch │ PoolArea │\n",
       "├─────┼─────────────┼───────────────┼────────────┼─────────────┼──────────┤\n",
       "│ 1   │ 61          │ 0             │ 0          │ 0           │ 0        │\n",
       "│ 2   │ 0           │ 0             │ 0          │ 0           │ 0        │\n",
       "│ 3   │ 42          │ 0             │ 0          │ 0           │ 0        │\n",
       "│ 4   │ 35          │ 272           │ 0          │ 0           │ 0        │\n",
       "│ 5   │ 84          │ 0             │ 0          │ 0           │ 0        │\n",
       "│ 6   │ 30          │ 0             │ 320        │ 0           │ 0        │\n",
       "\n",
       "│ Row │ PoolQC │ Fence   │ MiscFeature │ MiscVal │ MoSold │ YrSold │ SaleType │\n",
       "├─────┼────────┼─────────┼─────────────┼─────────┼────────┼────────┼──────────┤\n",
       "│ 1   │ NA     │ NA      │ NA          │ 0       │ 2      │ 2008   │ \"WD\"     │\n",
       "│ 2   │ NA     │ NA      │ NA          │ 0       │ 5      │ 2007   │ \"WD\"     │\n",
       "│ 3   │ NA     │ NA      │ NA          │ 0       │ 9      │ 2008   │ \"WD\"     │\n",
       "│ 4   │ NA     │ NA      │ NA          │ 0       │ 2      │ 2006   │ \"WD\"     │\n",
       "│ 5   │ NA     │ NA      │ NA          │ 0       │ 12     │ 2008   │ \"WD\"     │\n",
       "│ 6   │ NA     │ \"MnPrv\" │ \"Shed\"      │ 700     │ 10     │ 2009   │ \"WD\"     │\n",
       "\n",
       "│ Row │ SaleCondition │ SalePrice │\n",
       "├─────┼───────────────┼───────────┤\n",
       "│ 1   │ \"Normal\"      │ 208500    │\n",
       "│ 2   │ \"Normal\"      │ 181500    │\n",
       "│ 3   │ \"Normal\"      │ 223500    │\n",
       "│ 4   │ \"Abnorml\"     │ 140000    │\n",
       "│ 5   │ \"Normal\"      │ 250000    │\n",
       "│ 6   │ \"Normal\"      │ 143000    │"
      ]
     },
     "execution_count": 58,
     "metadata": {},
     "output_type": "execute_result"
    }
   ],
   "source": [
    "push!(LOAD_PATH, pwd()) # Allow loading of modules from current directory \n",
    "using DataFrames \n",
    "using Preprocess # from current directory\n",
    "\n",
    "train = readtable(\"0.kaggle/train.csv\")\n",
    "test = readtable(\"0.kaggle/test.csv\")\n",
    "combined = vcat(train,test)\n",
    "head(combined)"
   ]
  },
  {
   "cell_type": "code",
   "execution_count": 59,
   "metadata": {
    "collapsed": false
   },
   "outputs": [],
   "source": [
    "combined[:MSSubClass] = map(combined[:MSSubClass]) do x\n",
    "    string(\"__\", x)\n",
    "end\n",
    "combined[:MSSubClass]  = convert(DataArrays.DataArray{String,1}, combined[:MSSubClass]);"
   ]
  },
  {
   "cell_type": "markdown",
   "metadata": {
    "collapsed": true
   },
   "source": [
    "N.B. Alternatively, we could have reviewed the datatypes using the interactive function `review_ordinals!`.\n",
    "\n",
    "## Appraising the quality of the data\n",
    "The third column in the data frame constructed below shows the number of NA's in each field. Other columns give an idea of how they are distributed within the data. This information guides subsequent cleaning below. The various fields are described further [here](0.kaggle/data_summary.md). (To see the full list of field meta data, remove the second line below.)"
   ]
  },
  {
   "cell_type": "code",
   "execution_count": 60,
   "metadata": {
    "collapsed": false
   },
   "outputs": [
    {
     "data": {
      "text/html": [
       "<table class=\"data-frame\"><thead><tr><th></th><th>field</th><th>type</th><th>n_values</th><th>n_nas</th><th>percent_nas</th><th>row_of_first_non_na</th><th>nas_after_first_non_na</th></tr></thead><tbody><tr><th>1</th><td>Id</td><td>Int64</td><td>2919</td><td>0</td><td>0.0</td><td>1</td><td>0</td></tr><tr><th>2</th><td>MSSubClass</td><td>String</td><td>16</td><td>0</td><td>0.0</td><td>1</td><td>0</td></tr><tr><th>3</th><td>MSZoning</td><td>String</td><td>6</td><td>4</td><td>0.1</td><td>1</td><td>4</td></tr><tr><th>4</th><td>LotFrontage</td><td>Int64</td><td>129</td><td>486</td><td>16.6</td><td>1</td><td>486</td></tr><tr><th>5</th><td>LotArea</td><td>Int64</td><td>1951</td><td>0</td><td>0.0</td><td>1</td><td>0</td></tr><tr><th>6</th><td>Street</td><td>String</td><td>2</td><td>0</td><td>0.0</td><td>1</td><td>0</td></tr></tbody></table>"
      ],
      "text/plain": [
       "6×7 DataFrames.DataFrame\n",
       "│ Row │ field       │ type   │ n_values │ n_nas │ percent_nas │\n",
       "├─────┼─────────────┼────────┼──────────┼───────┼─────────────┤\n",
       "│ 1   │ Id          │ Int64  │ 2919     │ 0     │ 0.0         │\n",
       "│ 2   │ MSSubClass  │ String │ 16       │ 0     │ 0.0         │\n",
       "│ 3   │ MSZoning    │ String │ 6        │ 4     │ 0.1         │\n",
       "│ 4   │ LotFrontage │ Int64  │ 129      │ 486   │ 16.6        │\n",
       "│ 5   │ LotArea     │ Int64  │ 1951     │ 0     │ 0.0         │\n",
       "│ 6   │ Street      │ String │ 2        │ 0     │ 0.0         │\n",
       "\n",
       "│ Row │ row_of_first_non_na │ nas_after_first_non_na │\n",
       "├─────┼─────────────────────┼────────────────────────┤\n",
       "│ 1   │ 1                   │ 0                      │\n",
       "│ 2   │ 1                   │ 0                      │\n",
       "│ 3   │ 1                   │ 4                      │\n",
       "│ 4   │ 1                   │ 486                    │\n",
       "│ 5   │ 1                   │ 0                      │\n",
       "│ 6   │ 1                   │ 0                      │"
      ]
     },
     "execution_count": 60,
     "metadata": {},
     "output_type": "execute_result"
    }
   ],
   "source": [
    "meta = get_meta(combined)\n",
    "head(meta)"
   ]
  },
  {
   "cell_type": "markdown",
   "metadata": {},
   "source": [
    "## Determining outliers\n",
    "\n",
    "The following plot reveals two properties with huge living area but sale prices around the median value. "
   ]
  },
  {
   "cell_type": "code",
   "execution_count": 61,
   "metadata": {
    "collapsed": false
   },
   "outputs": [
    {
     "data": {
      "text/html": [
       "<img src=\"data:image/png;base64,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\" />"
      ]
     },
     "execution_count": 61,
     "metadata": {},
     "output_type": "execute_result"
    }
   ],
   "source": [
    "using Plots\n",
    "pyplot(size=(600,300))\n",
    "\n",
    "scatter(train[:GrLivArea], train[:SalePrice], markersize=2.0)\n",
    "scatter!(xlab=\"Sale Price\",ylab=\"Ground Living Area (sq ft)\")"
   ]
  },
  {
   "cell_type": "code",
   "execution_count": 62,
   "metadata": {
    "collapsed": false
   },
   "outputs": [
    {
     "data": {
      "text/plain": [
       "163000.0"
      ]
     },
     "execution_count": 62,
     "metadata": {},
     "output_type": "execute_result"
    }
   ],
   "source": [
    "median(train[:SalePrice])"
   ]
  },
  {
   "cell_type": "markdown",
   "metadata": {},
   "source": [
    "We remove these from the data and record the new size of our combined data set (`Id=1461` is the first pattern in the test portion of the data):"
   ]
  },
  {
   "cell_type": "code",
   "execution_count": 63,
   "metadata": {
    "collapsed": false
   },
   "outputs": [
    {
     "data": {
      "text/plain": [
       "(2915,81)"
      ]
     },
     "execution_count": 63,
     "metadata": {},
     "output_type": "execute_result"
    }
   ],
   "source": [
    "mask_bad = (combined[:GrLivArea] .> 4000) .* (combined[:Id] .< 1461)\n",
    "mask_good = !mask_bad\n",
    "combined = combined[mask_good,:]\n",
    "\n",
    "nrows, ncols = size(combined)"
   ]
  },
  {
   "cell_type": "markdown",
   "metadata": {},
   "source": [
    "## Cleaning"
   ]
  },
  {
   "cell_type": "markdown",
   "metadata": {},
   "source": [
    "According to the [documentation](0.kaggle/detailed_documentation.txt), \"NA\" in `:Alley` means \"no access\" not \"unknown value\". Correct this:"
   ]
  },
  {
   "cell_type": "code",
   "execution_count": 64,
   "metadata": {
    "collapsed": false
   },
   "outputs": [],
   "source": [
    "combined[:Alley] = convert(Array, combined[:Alley], \"NoAccess\");"
   ]
  },
  {
   "cell_type": "markdown",
   "metadata": {},
   "source": [
    "Similar remarks apply to other fields:"
   ]
  },
  {
   "cell_type": "code",
   "execution_count": 65,
   "metadata": {
    "collapsed": false
   },
   "outputs": [],
   "source": [
    "combined[:PoolQC] = convert(Array, combined[:PoolQC], \"None\")\n",
    "combined[:MiscFeature] = convert(Array, combined[:MiscFeature], \"None\")\n",
    "combined[:Fence] = convert(Array, combined[:Fence], \"None\")\n",
    "combined[:FireplaceQu] = convert(Array, combined[:FireplaceQu], \"None\")\n",
    "combined[:Functional] = convert(Array, combined[:Functional], \"Typ\");"
   ]
  },
  {
   "cell_type": "markdown",
   "metadata": {},
   "source": [
    "We dump ordinal fields with more than 50% NAs. (Note that `.*` is broadcast version of logical AND.)"
   ]
  },
  {
   "cell_type": "code",
   "execution_count": 66,
   "metadata": {
    "collapsed": false
   },
   "outputs": [],
   "source": [
    "bad_fields = meta[(meta[:percent_nas] .> 50) .* (meta[:type] .!= String), :field]\n",
    "bad_fields = collect(bad_fields)\n",
    "filter!(x -> x != :SalePrice, bad_fields) # exclude target variable which is undefined in test portion of data\n",
    "delete!(combined, bad_fields);"
   ]
  },
  {
   "cell_type": "markdown",
   "metadata": {},
   "source": [
    "Dump categorical fields with more than 80% NAs:"
   ]
  },
  {
   "cell_type": "code",
   "execution_count": 67,
   "metadata": {
    "collapsed": false
   },
   "outputs": [],
   "source": [
    "bad_fields = meta[(meta[:percent_nas] .> 80) .* (meta[:type] .== String), :field]\n",
    "delete!(combined, bad_fields);"
   ]
  },
  {
   "cell_type": "markdown",
   "metadata": {},
   "source": [
    "Make \"NA\" a genuine value in remaining categoricals:"
   ]
  },
  {
   "cell_type": "code",
   "execution_count": 68,
   "metadata": {
    "collapsed": false
   },
   "outputs": [],
   "source": [
    "for f in names(combined)\n",
    "    if eltype(combined[f]) == String\n",
    "        combined[f] = convert(Array{String,1}, combined[f], \"_NA\")\n",
    "    end\n",
    "end"
   ]
  },
  {
   "cell_type": "markdown",
   "metadata": {},
   "source": [
    "To clean `LotFrontage` we shall suppose that, within each neighborhood,  `:LotFrontage` (which is measured in linear feet) correlates roughly with the *square root* of `:LotArea` (measured in square feet). So  letting `ratio` refers to `:LotFrontage/sqrt(:LotArea)` we begin by finding the median value of `ratio` in each neighborhood and storing this in a dictionary:"
   ]
  },
  {
   "cell_type": "code",
   "execution_count": 69,
   "metadata": {
    "collapsed": true
   },
   "outputs": [],
   "source": [
    "temp = by(combined, [:Neighborhood], df -> median(dropna(df[:LotFrontage]./sqrt(df[:LotArea]))))\n",
    "ratio = Dict{String,Float64}()\n",
    "for i in 1:first(size(temp))\n",
    "    ratio[temp[i,:Neighborhood]]=temp[i,:x1]\n",
    "end"
   ]
  },
  {
   "cell_type": "markdown",
   "metadata": {},
   "source": [
    "We now use this ratio to imputate NA values in `:LotFrontage`:"
   ]
  },
  {
   "cell_type": "code",
   "execution_count": 70,
   "metadata": {
    "collapsed": true
   },
   "outputs": [],
   "source": [
    "combined[:LotFrontage] =  convert(DataArray{Float64,1}, combined[:LotFrontage])\n",
    "for i in 1:nrows\n",
    "    if isna(combined[i,:LotFrontage])\n",
    "        combined[i,:LotFrontage] = ratio[combined[i,:Neighborhood]]*sqrt(combined[i,:LotArea])\n",
    "    end\n",
    "end"
   ]
  },
  {
   "cell_type": "markdown",
   "metadata": {},
   "source": [
    "Drop `:Utilities` as the field is virtually constant:"
   ]
  },
  {
   "cell_type": "code",
   "execution_count": 71,
   "metadata": {
    "collapsed": false
   },
   "outputs": [],
   "source": [
    "delete!(combined, :Utilities);"
   ]
  },
  {
   "cell_type": "markdown",
   "metadata": {},
   "source": [
    "We replace `MasVnrArea` (Masonry Veneer area) NAs with zeros:"
   ]
  },
  {
   "cell_type": "code",
   "execution_count": 72,
   "metadata": {
    "collapsed": false
   },
   "outputs": [],
   "source": [
    "combined[:MasVnrArea] = convert(Array, combined[:MasVnrArea], 0.0);"
   ]
  },
  {
   "cell_type": "markdown",
   "metadata": {},
   "source": [
    "Remaining NAs are replaced with median values:"
   ]
  },
  {
   "cell_type": "code",
   "execution_count": 73,
   "metadata": {
    "collapsed": false
   },
   "outputs": [],
   "source": [
    "meta = get_meta(combined)\n",
    "fields_to_fix = collect(meta[meta[:n_nas] .> 0,:][:field])\n",
    "filter!(x -> x != :SalePrice, fields_to_fix) # exclude target variable\n",
    "for f in fields_to_fix\n",
    "    m = median(dropna(combined[f]))\n",
    "    combined[f] = convert(Array{Float64, 1}, combined[f], m)\n",
    "end"
   ]
  },
  {
   "cell_type": "markdown",
   "metadata": {},
   "source": [
    "It turns out `:MSSubClass` takes on a value in the test set not appearing\n",
    "in the train set. We replace it with the mode value:"
   ]
  },
  {
   "cell_type": "code",
   "execution_count": 74,
   "metadata": {
    "collapsed": false
   },
   "outputs": [],
   "source": [
    "combined[:MSSubClass] = map(combined[:MSSubClass]) do x \n",
    "    x == \"_150\" ? \"_20\" : x\n",
    "end;"
   ]
  },
  {
   "cell_type": "markdown",
   "metadata": {},
   "source": [
    "## Transforming the target variable\n",
    "As we shall be optimizing our models to minimize log-root-mean-squared error, it is convenient to replace the target variable in our modelling, `:SalePrice`, with its logarithm:"
   ]
  },
  {
   "cell_type": "code",
   "execution_count": 75,
   "metadata": {
    "collapsed": false
   },
   "outputs": [],
   "source": [
    "combined[:target] = log(combined[:SalePrice])\n",
    "delete!(combined, :SalePrice);"
   ]
  },
  {
   "cell_type": "markdown",
   "metadata": {},
   "source": [
    "## Saving the cleaned data to file"
   ]
  },
  {
   "cell_type": "code",
   "execution_count": 76,
   "metadata": {
    "collapsed": true
   },
   "outputs": [],
   "source": [
    "train = combined[!isna(combined[:target]),:]\n",
    "test = combined[isna(combined[:target]),:]\n",
    "    \n",
    "writetable(\"2.cleaned/combined.csv\", combined)\n",
    "writetable(\"2.cleaned/train.csv\", train)\n",
    "writetable(\"2.cleaned/test.csv\", test)"
   ]
  },
  {
   "cell_type": "code",
   "execution_count": null,
   "metadata": {
    "collapsed": true
   },
   "outputs": [],
   "source": []
  }
 ],
 "metadata": {
  "kernelspec": {
   "display_name": "Julia 0.5.2",
   "language": "julia",
   "name": "julia-0.5"
  },
  "language_info": {
   "file_extension": ".jl",
   "mimetype": "application/julia",
   "name": "julia",
   "version": "0.5.2"
  }
 },
 "nbformat": 4,
 "nbformat_minor": 2
}
