{
 "cells": [
  {
   "cell_type": "markdown",
   "metadata": {
    "collapsed": true
   },
   "source": [
    "# Ames House Price Data - Data Cleaning\n",
    "#### Juptyer notebook in Julia 0.5.2\n",
    "## Reviewing data types\n",
    "\n",
    "Some of our models are able to handle categorical and ordinal data simultaneously. These models will expect categorical data to be of `String` or `Char` type. In the house price data the field `MSSubClass` is categorical but is represented by an `Int` datatype. We fix this now:"
   ]
  },
  {
   "cell_type": "code",
   "execution_count": null,
   "metadata": {
    "collapsed": false
   },
   "outputs": [
    {
     "name": "stderr",
     "output_type": "stream",
     "text": [
      "WARNING: Method definition describe(AbstractArray) in module StatsBase at /Users/anthony/.julia/v0.5/StatsBase/src/scalarstats.jl:560 overwritten in module DataFrames at /Users/anthony/.julia/v0.5/DataFrames/src/abstractdataframe/abstractdataframe.jl:407.\n"
     ]
    },
    {
     "name": "stdout",
     "output_type": "stream",
     "text": [
      "RETURN -  yes\n",
      "c      -  change to categorical\n",
      "q      -  quit without further changes\n",
      "\n",
      "Id: 1, 1, 1, 1, ...\n",
      "\n",
      "Ordinal type? \n"
     ]
    },
    {
     "name": "stderr",
     "output_type": "stream",
     "text": [
      "WARNING: Method definition count() in module Iterators at deprecated.jl:49 overwritten in module IterTools at deprecated.jl:49.\n",
      "WARNING: Method definition count(Number) in module Iterators at deprecated.jl:49 overwritten in module IterTools at deprecated.jl:49.\n",
      "WARNING: Method definition count(Number, Number) in module Iterators at deprecated.jl:49 overwritten in module IterTools at deprecated.jl:49.\n"
     ]
    },
    {
     "name": "stdout",
     "output_type": "stream",
     "text": [
      "STDIN> \n",
      "MSSubClass: 20, 20, 20, 20, ...\n",
      "\n",
      "Ordinal type? \n",
      "STDIN> c\n",
      "LotFrontage: 60, 60, 60, 60, ...\n",
      "\n",
      "Ordinal type? \n",
      "STDIN> q\n",
      "LotArea: 14260, 14260, 14260, 14260, ...\n",
      "\n",
      "Ordinal type? \n",
      "STDIN> q\n",
      "OverallQual: 4, 4, 4, 4, ...\n",
      "\n",
      "Ordinal type? \n"
     ]
    }
   ],
   "source": [
    "using DataFrames, Preprocess\n",
    "\n",
    "train = readtable(\"0.kaggle/train.csv\")\n",
    "test = readtable(\"0.kaggle/test.csv\")\n",
    "combined = vcat(train,test)\n",
    "\n",
    "review_ordinals!(combined) # this is interactive function which I use\n",
    "                          # to change the type of `MSSubClass` to\n",
    "                          # categorical."
   ]
  },
  {
   "cell_type": "code",
   "execution_count": null,
   "metadata": {
    "collapsed": false
   },
   "outputs": [],
   "source": [
    "writetable(\"1.types_fixed/combined.csv\", combined)"
   ]
  },
  {
   "cell_type": "code",
   "execution_count": null,
   "metadata": {
    "collapsed": true
   },
   "outputs": [],
   "source": []
  }
 ],
 "metadata": {
  "kernelspec": {
   "display_name": "Julia 0.5.2",
   "language": "julia",
   "name": "julia-0.5"
  },
  "language_info": {
   "file_extension": ".jl",
   "mimetype": "application/julia",
   "name": "julia",
   "version": "0.5.2"
  }
 },
 "nbformat": 4,
 "nbformat_minor": 2
}
