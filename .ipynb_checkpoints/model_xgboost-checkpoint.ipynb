{
 "cells": [
  {
   "cell_type": "markdown",
   "metadata": {},
   "source": [
    "# Ames House Price Data - Gradient Boosted Trees (XGBoost)\n",
    "\n",
    "> Juptyer notebook, running a Julia 0.5.2 kernel, with the help of Machine Learning modules written by the author\n",
    "\n",
    "*We build an XGBoost model using ?\n",
    "\n",
    "Estimated 95% confidence interval for log-RMS error of Sale Price predictions for the tuned model: \n",
    "\n",
    "\n",
    "\n",
    "## Reading in and transforming  the data\n",
    "Our gradient boosting algorithm is just a wrapping of the popular XGBoost algorithm (sitting atop [XGBoost.jl](https://github.com/dmlc/xgboost) of the Distributed Machine Learning Community). As this algorithm does not handle categorical features, we one-hot encode after loading and standardizing the data. Standardization is recommended because the effect of the regularization parameters is scale-dependent. "
   ]
  },
  {
   "cell_type": "code",
   "execution_count": null,
   "metadata": {
    "collapsed": true
   },
   "outputs": [],
   "source": [
    "push!(LOAD_PATH, pwd()) # Allow loading of modules from current directory \n",
    "addprocs(3) # for parallel processing\n",
    "using Preprocess\n",
    "import DataFrames: head, readtable, writetable\n",
    "using Regressors, Validation\n",
    "import TreeCollections: DataTable\n",
    "\n",
    "df = readtable(\"2.cleaned/train_randomized.csv\")\n",
    "\n",
    "const y = collect(df[:target])\n",
    "\n",
    "x = df[2:end-1]\n",
    "s = StandardizationScheme(x)\n",
    "xx = transform(s, x)\n",
    "t = HotEncodingScheme(xx)\n",
    "const X = Array(transform(t, xx))"
   ]
  },
  {
   "cell_type": "markdown",
   "metadata": {},
   "source": [
    "## Parameter tuning and cross-validation\n",
    "\n",
    "XGBoost has quite a few parameters to tune, and we carried out tuning (not published in this notebook) according to [this post](https://www.analyticsvidhya.com/wp-content/uploads/2016/02/5.-gamma.png) of Aarshay Jain. \n"
   ]
  },
  {
   "cell_type": "code",
   "execution_count": null,
   "metadata": {
    "collapsed": true
   },
   "outputs": [],
   "source": [
    "rgs=XGBoostRegressor(alpha=0.006, lambda=0.0, subsample=0.66,\n",
    "                     colsample_bytree=0.55, eta=0.01, n=2000, min_child_weight=6.0, max_depth=3)\n",
    "\n",
    "\n",
    "# determine cross-validation error:\n",
    "err=cv_error(rgs, X, y, n_folds=12, parallel=true, verbose=false) # 0.11413747553914363"
   ]
  },
  {
   "cell_type": "code",
   "execution_count": 1,
   "metadata": {
    "collapsed": false
   },
   "outputs": [
    {
     "name": "stderr",
     "output_type": "stream",
     "text": [
      "WARNING: Method definition count() in module Iterators at deprecated.jl:49 overwritten in module IterTools at deprecated.jl:49.\n",
      "WARNING: Method definition count(Number) in module Iterators at deprecated.jl:49 overwritten in module IterTools at deprecated.jl:49.\n",
      "WARNING: Method definition count(Number, Number) in module Iterators at deprecated.jl:49 overwritten in module IterTools at deprecated.jl:49.\n",
      "WARNING: Method definition describe(AbstractArray) in module StatsBase at /Users/anthony/.julia/v0.5/StatsBase/src/scalarstats.jl:560 overwritten in module DataFrames at /Users/anthony/.julia/v0.5/DataFrames/src/abstractdataframe/abstractdataframe.jl:407.\n",
      "WARNING: Method definition count() in module Iterators at deprecated.jl:49 overwritten in module IterTools at deprecated.jl:49.\n",
      "WARNING: Method definition count(Number) in module Iterators at deprecated.jl:49 overwritten in module IterTools at deprecated.jl:49.\n",
      "WARNING: Method definition count(Number, Number) in module Iterators at deprecated.jl:49 overwritten in module IterTools at deprecated.jl:49.\n",
      "WARNING: Method definition count() in module Iterators at deprecated.jl:49 overwritten in module IterTools at deprecated.jl:49.\n",
      "WARNING: Method definition count(Number) in module Iterators at deprecated.jl:49 overwritten in module IterTools at deprecated.jl:49.\n",
      "WARNING: Method definition count(Number, Number) in module Iterators at deprecated.jl:49 overwritten in module IterTools at deprecated.jl:49.\n",
      "WARNING: Method definition count() in module Iterators at deprecated.jl:49 overwritten in module IterTools at deprecated.jl:49.\n",
      "WARNING: Method definition count(Number) in module Iterators at deprecated.jl:49 overwritten in module IterTools at deprecated.jl:49.\n",
      "WARNING: Method definition count(Number, Number) in module Iterators at deprecated.jl:49 overwritten in module IterTools at deprecated.jl:49.\n",
      "WARNING: Method definition describe(AbstractArray) in module StatsBase at /Users/anthony/.julia/v0.5/StatsBase/src/scalarstats.jl:560 overwritten in module DataFrames at /Users/anthony/.julia/v0.5/DataFrames/src/abstractdataframe/abstractdataframe.jl:407.\n",
      "WARNING: Method definition describe(AbstractArray) in module StatsBase at /Users/anthony/.julia/v0.5/StatsBase/src/scalarstats.jl:560 overwritten in module DataFrames at /Users/anthony/.julia/v0.5/DataFrames/src/abstractdataframe/abstractdataframe.jl:407.\n",
      "WARNING: Method definition describe(AbstractArray) in module StatsBase at /Users/anthony/.julia/v0.5/StatsBase/src/scalarstats.jl:560 overwritten in module DataFrames at /Users/anthony/.julia/v0.5/DataFrames/src/abstractdataframe/abstractdataframe.jl:407.\n"
     ]
    }
   ],
   "source": [
    "# fit on all train data:\n",
    "fit!(rgs, X, y)"
   ]
  },
  {
   "cell_type": "code",
   "execution_count": null,
   "metadata": {
    "collapsed": true
   },
   "outputs": [],
   "source": []
  }
 ],
 "metadata": {
  "kernelspec": {
   "display_name": "Julia 0.5.2",
   "language": "julia",
   "name": "julia-0.5"
  },
  "language_info": {
   "file_extension": ".jl",
   "mimetype": "application/julia",
   "name": "julia",
   "version": "0.5.2"
  }
 },
 "nbformat": 4,
 "nbformat_minor": 2
}
