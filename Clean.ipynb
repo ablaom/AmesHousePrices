{
 "cells": [
  {
   "cell_type": "markdown",
   "metadata": {
    "collapsed": true
   },
   "source": [
    "# Ames House Price Data - Data Cleaning\n",
    "\n",
    "> Juptyer notebook, running a Julia 0.5.2 kernel, with the help of Machine Learning modules written by the author\n",
    "\n",
    "*This notebook describes cleaning of the data. Additional model-dependent transformations to the data (eg, Cox-Box transformations and one-hot encodings for linear models) are described in the notebook for the relevant model.*\n",
    "\n",
    "## Reviewing data types\n",
    "\n",
    "Some of our models are able to handle categorical and ordinal data simultaneously. These models will expect categorical data to be of `String` or `Char` type. In the house price data the attribute `MSSubClass` (building class) is categorical but is represented by an `Int` datatype. We fix this now, after loading the data:"
   ]
  },
  {
   "cell_type": "code",
   "execution_count": 39,
   "metadata": {
    "collapsed": false
   },
   "outputs": [
    {
     "data": {
      "text/html": [
       "<table class=\"data-frame\"><thead><tr><th></th><th>Id</th><th>MSSubClass</th><th>MSZoning</th><th>LotFrontage</th><th>LotArea</th><th>Street</th><th>Alley</th><th>LotShape</th><th>LandContour</th><th>Utilities</th><th>LotConfig</th><th>LandSlope</th><th>Neighborhood</th><th>Condition1</th><th>Condition2</th><th>BldgType</th><th>HouseStyle</th><th>OverallQual</th><th>OverallCond</th><th>YearBuilt</th><th>YearRemodAdd</th><th>RoofStyle</th><th>RoofMatl</th><th>Exterior1st</th><th>Exterior2nd</th><th>MasVnrType</th><th>MasVnrArea</th><th>ExterQual</th><th>ExterCond</th><th>Foundation</th><th>BsmtQual</th><th>BsmtCond</th><th>BsmtExposure</th><th>BsmtFinType1</th><th>BsmtFinSF1</th><th>BsmtFinType2</th><th>BsmtFinSF2</th><th>BsmtUnfSF</th><th>TotalBsmtSF</th><th>Heating</th><th>HeatingQC</th><th>CentralAir</th><th>Electrical</th><th>x1stFlrSF</th><th>x2ndFlrSF</th><th>LowQualFinSF</th><th>GrLivArea</th><th>BsmtFullBath</th><th>BsmtHalfBath</th><th>FullBath</th><th>HalfBath</th><th>BedroomAbvGr</th><th>KitchenAbvGr</th><th>KitchenQual</th><th>TotRmsAbvGrd</th><th>Functional</th><th>Fireplaces</th><th>FireplaceQu</th><th>GarageType</th><th>GarageYrBlt</th><th>GarageFinish</th><th>GarageCars</th><th>GarageArea</th><th>GarageQual</th><th>GarageCond</th><th>PavedDrive</th><th>WoodDeckSF</th><th>OpenPorchSF</th><th>EnclosedPorch</th><th>x3SsnPorch</th><th>ScreenPorch</th><th>PoolArea</th><th>PoolQC</th><th>Fence</th><th>MiscFeature</th><th>MiscVal</th><th>MoSold</th><th>YrSold</th><th>SaleType</th><th>SaleCondition</th><th>SalePrice</th></tr></thead><tbody><tr><th>1</th><td>1</td><td>60</td><td>RL</td><td>65</td><td>8450</td><td>Pave</td><td>NA</td><td>Reg</td><td>Lvl</td><td>AllPub</td><td>Inside</td><td>Gtl</td><td>CollgCr</td><td>Norm</td><td>Norm</td><td>1Fam</td><td>2Story</td><td>7</td><td>5</td><td>2003</td><td>2003</td><td>Gable</td><td>CompShg</td><td>VinylSd</td><td>VinylSd</td><td>BrkFace</td><td>196</td><td>Gd</td><td>TA</td><td>PConc</td><td>Gd</td><td>TA</td><td>No</td><td>GLQ</td><td>706</td><td>Unf</td><td>0</td><td>150</td><td>856</td><td>GasA</td><td>Ex</td><td>Y</td><td>SBrkr</td><td>856</td><td>854</td><td>0</td><td>1710</td><td>1</td><td>0</td><td>2</td><td>1</td><td>3</td><td>1</td><td>Gd</td><td>8</td><td>Typ</td><td>0</td><td>NA</td><td>Attchd</td><td>2003</td><td>RFn</td><td>2</td><td>548</td><td>TA</td><td>TA</td><td>Y</td><td>0</td><td>61</td><td>0</td><td>0</td><td>0</td><td>0</td><td>NA</td><td>NA</td><td>NA</td><td>0</td><td>2</td><td>2008</td><td>WD</td><td>Normal</td><td>208500</td></tr><tr><th>2</th><td>2</td><td>20</td><td>RL</td><td>80</td><td>9600</td><td>Pave</td><td>NA</td><td>Reg</td><td>Lvl</td><td>AllPub</td><td>FR2</td><td>Gtl</td><td>Veenker</td><td>Feedr</td><td>Norm</td><td>1Fam</td><td>1Story</td><td>6</td><td>8</td><td>1976</td><td>1976</td><td>Gable</td><td>CompShg</td><td>MetalSd</td><td>MetalSd</td><td>None</td><td>0</td><td>TA</td><td>TA</td><td>CBlock</td><td>Gd</td><td>TA</td><td>Gd</td><td>ALQ</td><td>978</td><td>Unf</td><td>0</td><td>284</td><td>1262</td><td>GasA</td><td>Ex</td><td>Y</td><td>SBrkr</td><td>1262</td><td>0</td><td>0</td><td>1262</td><td>0</td><td>1</td><td>2</td><td>0</td><td>3</td><td>1</td><td>TA</td><td>6</td><td>Typ</td><td>1</td><td>TA</td><td>Attchd</td><td>1976</td><td>RFn</td><td>2</td><td>460</td><td>TA</td><td>TA</td><td>Y</td><td>298</td><td>0</td><td>0</td><td>0</td><td>0</td><td>0</td><td>NA</td><td>NA</td><td>NA</td><td>0</td><td>5</td><td>2007</td><td>WD</td><td>Normal</td><td>181500</td></tr><tr><th>3</th><td>3</td><td>60</td><td>RL</td><td>68</td><td>11250</td><td>Pave</td><td>NA</td><td>IR1</td><td>Lvl</td><td>AllPub</td><td>Inside</td><td>Gtl</td><td>CollgCr</td><td>Norm</td><td>Norm</td><td>1Fam</td><td>2Story</td><td>7</td><td>5</td><td>2001</td><td>2002</td><td>Gable</td><td>CompShg</td><td>VinylSd</td><td>VinylSd</td><td>BrkFace</td><td>162</td><td>Gd</td><td>TA</td><td>PConc</td><td>Gd</td><td>TA</td><td>Mn</td><td>GLQ</td><td>486</td><td>Unf</td><td>0</td><td>434</td><td>920</td><td>GasA</td><td>Ex</td><td>Y</td><td>SBrkr</td><td>920</td><td>866</td><td>0</td><td>1786</td><td>1</td><td>0</td><td>2</td><td>1</td><td>3</td><td>1</td><td>Gd</td><td>6</td><td>Typ</td><td>1</td><td>TA</td><td>Attchd</td><td>2001</td><td>RFn</td><td>2</td><td>608</td><td>TA</td><td>TA</td><td>Y</td><td>0</td><td>42</td><td>0</td><td>0</td><td>0</td><td>0</td><td>NA</td><td>NA</td><td>NA</td><td>0</td><td>9</td><td>2008</td><td>WD</td><td>Normal</td><td>223500</td></tr><tr><th>4</th><td>4</td><td>70</td><td>RL</td><td>60</td><td>9550</td><td>Pave</td><td>NA</td><td>IR1</td><td>Lvl</td><td>AllPub</td><td>Corner</td><td>Gtl</td><td>Crawfor</td><td>Norm</td><td>Norm</td><td>1Fam</td><td>2Story</td><td>7</td><td>5</td><td>1915</td><td>1970</td><td>Gable</td><td>CompShg</td><td>Wd Sdng</td><td>Wd Shng</td><td>None</td><td>0</td><td>TA</td><td>TA</td><td>BrkTil</td><td>TA</td><td>Gd</td><td>No</td><td>ALQ</td><td>216</td><td>Unf</td><td>0</td><td>540</td><td>756</td><td>GasA</td><td>Gd</td><td>Y</td><td>SBrkr</td><td>961</td><td>756</td><td>0</td><td>1717</td><td>1</td><td>0</td><td>1</td><td>0</td><td>3</td><td>1</td><td>Gd</td><td>7</td><td>Typ</td><td>1</td><td>Gd</td><td>Detchd</td><td>1998</td><td>Unf</td><td>3</td><td>642</td><td>TA</td><td>TA</td><td>Y</td><td>0</td><td>35</td><td>272</td><td>0</td><td>0</td><td>0</td><td>NA</td><td>NA</td><td>NA</td><td>0</td><td>2</td><td>2006</td><td>WD</td><td>Abnorml</td><td>140000</td></tr><tr><th>5</th><td>5</td><td>60</td><td>RL</td><td>84</td><td>14260</td><td>Pave</td><td>NA</td><td>IR1</td><td>Lvl</td><td>AllPub</td><td>FR2</td><td>Gtl</td><td>NoRidge</td><td>Norm</td><td>Norm</td><td>1Fam</td><td>2Story</td><td>8</td><td>5</td><td>2000</td><td>2000</td><td>Gable</td><td>CompShg</td><td>VinylSd</td><td>VinylSd</td><td>BrkFace</td><td>350</td><td>Gd</td><td>TA</td><td>PConc</td><td>Gd</td><td>TA</td><td>Av</td><td>GLQ</td><td>655</td><td>Unf</td><td>0</td><td>490</td><td>1145</td><td>GasA</td><td>Ex</td><td>Y</td><td>SBrkr</td><td>1145</td><td>1053</td><td>0</td><td>2198</td><td>1</td><td>0</td><td>2</td><td>1</td><td>4</td><td>1</td><td>Gd</td><td>9</td><td>Typ</td><td>1</td><td>TA</td><td>Attchd</td><td>2000</td><td>RFn</td><td>3</td><td>836</td><td>TA</td><td>TA</td><td>Y</td><td>192</td><td>84</td><td>0</td><td>0</td><td>0</td><td>0</td><td>NA</td><td>NA</td><td>NA</td><td>0</td><td>12</td><td>2008</td><td>WD</td><td>Normal</td><td>250000</td></tr><tr><th>6</th><td>6</td><td>50</td><td>RL</td><td>85</td><td>14115</td><td>Pave</td><td>NA</td><td>IR1</td><td>Lvl</td><td>AllPub</td><td>Inside</td><td>Gtl</td><td>Mitchel</td><td>Norm</td><td>Norm</td><td>1Fam</td><td>1.5Fin</td><td>5</td><td>5</td><td>1993</td><td>1995</td><td>Gable</td><td>CompShg</td><td>VinylSd</td><td>VinylSd</td><td>None</td><td>0</td><td>TA</td><td>TA</td><td>Wood</td><td>Gd</td><td>TA</td><td>No</td><td>GLQ</td><td>732</td><td>Unf</td><td>0</td><td>64</td><td>796</td><td>GasA</td><td>Ex</td><td>Y</td><td>SBrkr</td><td>796</td><td>566</td><td>0</td><td>1362</td><td>1</td><td>0</td><td>1</td><td>1</td><td>1</td><td>1</td><td>TA</td><td>5</td><td>Typ</td><td>0</td><td>NA</td><td>Attchd</td><td>1993</td><td>Unf</td><td>2</td><td>480</td><td>TA</td><td>TA</td><td>Y</td><td>40</td><td>30</td><td>0</td><td>320</td><td>0</td><td>0</td><td>NA</td><td>MnPrv</td><td>Shed</td><td>700</td><td>10</td><td>2009</td><td>WD</td><td>Normal</td><td>143000</td></tr></tbody></table>"
      ],
      "text/plain": [
       "6×81 DataFrames.DataFrame\n",
       "│ Row │ Id │ MSSubClass │ MSZoning │ LotFrontage │ LotArea │ Street │ Alley │\n",
       "├─────┼────┼────────────┼──────────┼─────────────┼─────────┼────────┼───────┤\n",
       "│ 1   │ 1  │ 60         │ \"RL\"     │ 65          │ 8450    │ \"Pave\" │ NA    │\n",
       "│ 2   │ 2  │ 20         │ \"RL\"     │ 80          │ 9600    │ \"Pave\" │ NA    │\n",
       "│ 3   │ 3  │ 60         │ \"RL\"     │ 68          │ 11250   │ \"Pave\" │ NA    │\n",
       "│ 4   │ 4  │ 70         │ \"RL\"     │ 60          │ 9550    │ \"Pave\" │ NA    │\n",
       "│ 5   │ 5  │ 60         │ \"RL\"     │ 84          │ 14260   │ \"Pave\" │ NA    │\n",
       "│ 6   │ 6  │ 50         │ \"RL\"     │ 85          │ 14115   │ \"Pave\" │ NA    │\n",
       "\n",
       "│ Row │ LotShape │ LandContour │ Utilities │ LotConfig │ LandSlope │\n",
       "├─────┼──────────┼─────────────┼───────────┼───────────┼───────────┤\n",
       "│ 1   │ \"Reg\"    │ \"Lvl\"       │ \"AllPub\"  │ \"Inside\"  │ \"Gtl\"     │\n",
       "│ 2   │ \"Reg\"    │ \"Lvl\"       │ \"AllPub\"  │ \"FR2\"     │ \"Gtl\"     │\n",
       "│ 3   │ \"IR1\"    │ \"Lvl\"       │ \"AllPub\"  │ \"Inside\"  │ \"Gtl\"     │\n",
       "│ 4   │ \"IR1\"    │ \"Lvl\"       │ \"AllPub\"  │ \"Corner\"  │ \"Gtl\"     │\n",
       "│ 5   │ \"IR1\"    │ \"Lvl\"       │ \"AllPub\"  │ \"FR2\"     │ \"Gtl\"     │\n",
       "│ 6   │ \"IR1\"    │ \"Lvl\"       │ \"AllPub\"  │ \"Inside\"  │ \"Gtl\"     │\n",
       "\n",
       "│ Row │ Neighborhood │ Condition1 │ Condition2 │ BldgType │ HouseStyle │\n",
       "├─────┼──────────────┼────────────┼────────────┼──────────┼────────────┤\n",
       "│ 1   │ \"CollgCr\"    │ \"Norm\"     │ \"Norm\"     │ \"1Fam\"   │ \"2Story\"   │\n",
       "│ 2   │ \"Veenker\"    │ \"Feedr\"    │ \"Norm\"     │ \"1Fam\"   │ \"1Story\"   │\n",
       "│ 3   │ \"CollgCr\"    │ \"Norm\"     │ \"Norm\"     │ \"1Fam\"   │ \"2Story\"   │\n",
       "│ 4   │ \"Crawfor\"    │ \"Norm\"     │ \"Norm\"     │ \"1Fam\"   │ \"2Story\"   │\n",
       "│ 5   │ \"NoRidge\"    │ \"Norm\"     │ \"Norm\"     │ \"1Fam\"   │ \"2Story\"   │\n",
       "│ 6   │ \"Mitchel\"    │ \"Norm\"     │ \"Norm\"     │ \"1Fam\"   │ \"1.5Fin\"   │\n",
       "\n",
       "│ Row │ OverallQual │ OverallCond │ YearBuilt │ YearRemodAdd │ RoofStyle │\n",
       "├─────┼─────────────┼─────────────┼───────────┼──────────────┼───────────┤\n",
       "│ 1   │ 7           │ 5           │ 2003      │ 2003         │ \"Gable\"   │\n",
       "│ 2   │ 6           │ 8           │ 1976      │ 1976         │ \"Gable\"   │\n",
       "│ 3   │ 7           │ 5           │ 2001      │ 2002         │ \"Gable\"   │\n",
       "│ 4   │ 7           │ 5           │ 1915      │ 1970         │ \"Gable\"   │\n",
       "│ 5   │ 8           │ 5           │ 2000      │ 2000         │ \"Gable\"   │\n",
       "│ 6   │ 5           │ 5           │ 1993      │ 1995         │ \"Gable\"   │\n",
       "\n",
       "│ Row │ RoofMatl  │ Exterior1st │ Exterior2nd │ MasVnrType │ MasVnrArea │\n",
       "├─────┼───────────┼─────────────┼─────────────┼────────────┼────────────┤\n",
       "│ 1   │ \"CompShg\" │ \"VinylSd\"   │ \"VinylSd\"   │ \"BrkFace\"  │ 196        │\n",
       "│ 2   │ \"CompShg\" │ \"MetalSd\"   │ \"MetalSd\"   │ \"None\"     │ 0          │\n",
       "│ 3   │ \"CompShg\" │ \"VinylSd\"   │ \"VinylSd\"   │ \"BrkFace\"  │ 162        │\n",
       "│ 4   │ \"CompShg\" │ \"Wd Sdng\"   │ \"Wd Shng\"   │ \"None\"     │ 0          │\n",
       "│ 5   │ \"CompShg\" │ \"VinylSd\"   │ \"VinylSd\"   │ \"BrkFace\"  │ 350        │\n",
       "│ 6   │ \"CompShg\" │ \"VinylSd\"   │ \"VinylSd\"   │ \"None\"     │ 0          │\n",
       "\n",
       "│ Row │ ExterQual │ ExterCond │ Foundation │ BsmtQual │ BsmtCond │\n",
       "├─────┼───────────┼───────────┼────────────┼──────────┼──────────┤\n",
       "│ 1   │ \"Gd\"      │ \"TA\"      │ \"PConc\"    │ \"Gd\"     │ \"TA\"     │\n",
       "│ 2   │ \"TA\"      │ \"TA\"      │ \"CBlock\"   │ \"Gd\"     │ \"TA\"     │\n",
       "│ 3   │ \"Gd\"      │ \"TA\"      │ \"PConc\"    │ \"Gd\"     │ \"TA\"     │\n",
       "│ 4   │ \"TA\"      │ \"TA\"      │ \"BrkTil\"   │ \"TA\"     │ \"Gd\"     │\n",
       "│ 5   │ \"Gd\"      │ \"TA\"      │ \"PConc\"    │ \"Gd\"     │ \"TA\"     │\n",
       "│ 6   │ \"TA\"      │ \"TA\"      │ \"Wood\"     │ \"Gd\"     │ \"TA\"     │\n",
       "\n",
       "│ Row │ BsmtExposure │ BsmtFinType1 │ BsmtFinSF1 │ BsmtFinType2 │ BsmtFinSF2 │\n",
       "├─────┼──────────────┼──────────────┼────────────┼──────────────┼────────────┤\n",
       "│ 1   │ \"No\"         │ \"GLQ\"        │ 706        │ \"Unf\"        │ 0          │\n",
       "│ 2   │ \"Gd\"         │ \"ALQ\"        │ 978        │ \"Unf\"        │ 0          │\n",
       "│ 3   │ \"Mn\"         │ \"GLQ\"        │ 486        │ \"Unf\"        │ 0          │\n",
       "│ 4   │ \"No\"         │ \"ALQ\"        │ 216        │ \"Unf\"        │ 0          │\n",
       "│ 5   │ \"Av\"         │ \"GLQ\"        │ 655        │ \"Unf\"        │ 0          │\n",
       "│ 6   │ \"No\"         │ \"GLQ\"        │ 732        │ \"Unf\"        │ 0          │\n",
       "\n",
       "│ Row │ BsmtUnfSF │ TotalBsmtSF │ Heating │ HeatingQC │ CentralAir │\n",
       "├─────┼───────────┼─────────────┼─────────┼───────────┼────────────┤\n",
       "│ 1   │ 150       │ 856         │ \"GasA\"  │ \"Ex\"      │ \"Y\"        │\n",
       "│ 2   │ 284       │ 1262        │ \"GasA\"  │ \"Ex\"      │ \"Y\"        │\n",
       "│ 3   │ 434       │ 920         │ \"GasA\"  │ \"Ex\"      │ \"Y\"        │\n",
       "│ 4   │ 540       │ 756         │ \"GasA\"  │ \"Gd\"      │ \"Y\"        │\n",
       "│ 5   │ 490       │ 1145        │ \"GasA\"  │ \"Ex\"      │ \"Y\"        │\n",
       "│ 6   │ 64        │ 796         │ \"GasA\"  │ \"Ex\"      │ \"Y\"        │\n",
       "\n",
       "│ Row │ Electrical │ x1stFlrSF │ x2ndFlrSF │ LowQualFinSF │ GrLivArea │\n",
       "├─────┼────────────┼───────────┼───────────┼──────────────┼───────────┤\n",
       "│ 1   │ \"SBrkr\"    │ 856       │ 854       │ 0            │ 1710      │\n",
       "│ 2   │ \"SBrkr\"    │ 1262      │ 0         │ 0            │ 1262      │\n",
       "│ 3   │ \"SBrkr\"    │ 920       │ 866       │ 0            │ 1786      │\n",
       "│ 4   │ \"SBrkr\"    │ 961       │ 756       │ 0            │ 1717      │\n",
       "│ 5   │ \"SBrkr\"    │ 1145      │ 1053      │ 0            │ 2198      │\n",
       "│ 6   │ \"SBrkr\"    │ 796       │ 566       │ 0            │ 1362      │\n",
       "\n",
       "│ Row │ BsmtFullBath │ BsmtHalfBath │ FullBath │ HalfBath │ BedroomAbvGr │\n",
       "├─────┼──────────────┼──────────────┼──────────┼──────────┼──────────────┤\n",
       "│ 1   │ 1            │ 0            │ 2        │ 1        │ 3            │\n",
       "│ 2   │ 0            │ 1            │ 2        │ 0        │ 3            │\n",
       "│ 3   │ 1            │ 0            │ 2        │ 1        │ 3            │\n",
       "│ 4   │ 1            │ 0            │ 1        │ 0        │ 3            │\n",
       "│ 5   │ 1            │ 0            │ 2        │ 1        │ 4            │\n",
       "│ 6   │ 1            │ 0            │ 1        │ 1        │ 1            │\n",
       "\n",
       "│ Row │ KitchenAbvGr │ KitchenQual │ TotRmsAbvGrd │ Functional │ Fireplaces │\n",
       "├─────┼──────────────┼─────────────┼──────────────┼────────────┼────────────┤\n",
       "│ 1   │ 1            │ \"Gd\"        │ 8            │ \"Typ\"      │ 0          │\n",
       "│ 2   │ 1            │ \"TA\"        │ 6            │ \"Typ\"      │ 1          │\n",
       "│ 3   │ 1            │ \"Gd\"        │ 6            │ \"Typ\"      │ 1          │\n",
       "│ 4   │ 1            │ \"Gd\"        │ 7            │ \"Typ\"      │ 1          │\n",
       "│ 5   │ 1            │ \"Gd\"        │ 9            │ \"Typ\"      │ 1          │\n",
       "│ 6   │ 1            │ \"TA\"        │ 5            │ \"Typ\"      │ 0          │\n",
       "\n",
       "│ Row │ FireplaceQu │ GarageType │ GarageYrBlt │ GarageFinish │ GarageCars │\n",
       "├─────┼─────────────┼────────────┼─────────────┼──────────────┼────────────┤\n",
       "│ 1   │ NA          │ \"Attchd\"   │ 2003        │ \"RFn\"        │ 2          │\n",
       "│ 2   │ \"TA\"        │ \"Attchd\"   │ 1976        │ \"RFn\"        │ 2          │\n",
       "│ 3   │ \"TA\"        │ \"Attchd\"   │ 2001        │ \"RFn\"        │ 2          │\n",
       "│ 4   │ \"Gd\"        │ \"Detchd\"   │ 1998        │ \"Unf\"        │ 3          │\n",
       "│ 5   │ \"TA\"        │ \"Attchd\"   │ 2000        │ \"RFn\"        │ 3          │\n",
       "│ 6   │ NA          │ \"Attchd\"   │ 1993        │ \"Unf\"        │ 2          │\n",
       "\n",
       "│ Row │ GarageArea │ GarageQual │ GarageCond │ PavedDrive │ WoodDeckSF │\n",
       "├─────┼────────────┼────────────┼────────────┼────────────┼────────────┤\n",
       "│ 1   │ 548        │ \"TA\"       │ \"TA\"       │ \"Y\"        │ 0          │\n",
       "│ 2   │ 460        │ \"TA\"       │ \"TA\"       │ \"Y\"        │ 298        │\n",
       "│ 3   │ 608        │ \"TA\"       │ \"TA\"       │ \"Y\"        │ 0          │\n",
       "│ 4   │ 642        │ \"TA\"       │ \"TA\"       │ \"Y\"        │ 0          │\n",
       "│ 5   │ 836        │ \"TA\"       │ \"TA\"       │ \"Y\"        │ 192        │\n",
       "│ 6   │ 480        │ \"TA\"       │ \"TA\"       │ \"Y\"        │ 40         │\n",
       "\n",
       "│ Row │ OpenPorchSF │ EnclosedPorch │ x3SsnPorch │ ScreenPorch │ PoolArea │\n",
       "├─────┼─────────────┼───────────────┼────────────┼─────────────┼──────────┤\n",
       "│ 1   │ 61          │ 0             │ 0          │ 0           │ 0        │\n",
       "│ 2   │ 0           │ 0             │ 0          │ 0           │ 0        │\n",
       "│ 3   │ 42          │ 0             │ 0          │ 0           │ 0        │\n",
       "│ 4   │ 35          │ 272           │ 0          │ 0           │ 0        │\n",
       "│ 5   │ 84          │ 0             │ 0          │ 0           │ 0        │\n",
       "│ 6   │ 30          │ 0             │ 320        │ 0           │ 0        │\n",
       "\n",
       "│ Row │ PoolQC │ Fence   │ MiscFeature │ MiscVal │ MoSold │ YrSold │ SaleType │\n",
       "├─────┼────────┼─────────┼─────────────┼─────────┼────────┼────────┼──────────┤\n",
       "│ 1   │ NA     │ NA      │ NA          │ 0       │ 2      │ 2008   │ \"WD\"     │\n",
       "│ 2   │ NA     │ NA      │ NA          │ 0       │ 5      │ 2007   │ \"WD\"     │\n",
       "│ 3   │ NA     │ NA      │ NA          │ 0       │ 9      │ 2008   │ \"WD\"     │\n",
       "│ 4   │ NA     │ NA      │ NA          │ 0       │ 2      │ 2006   │ \"WD\"     │\n",
       "│ 5   │ NA     │ NA      │ NA          │ 0       │ 12     │ 2008   │ \"WD\"     │\n",
       "│ 6   │ NA     │ \"MnPrv\" │ \"Shed\"      │ 700     │ 10     │ 2009   │ \"WD\"     │\n",
       "\n",
       "│ Row │ SaleCondition │ SalePrice │\n",
       "├─────┼───────────────┼───────────┤\n",
       "│ 1   │ \"Normal\"      │ 208500    │\n",
       "│ 2   │ \"Normal\"      │ 181500    │\n",
       "│ 3   │ \"Normal\"      │ 223500    │\n",
       "│ 4   │ \"Abnorml\"     │ 140000    │\n",
       "│ 5   │ \"Normal\"      │ 250000    │\n",
       "│ 6   │ \"Normal\"      │ 143000    │"
      ]
     },
     "execution_count": 39,
     "metadata": {},
     "output_type": "execute_result"
    }
   ],
   "source": [
    "push!(LOAD_PATH, pwd()) # Allow loading of modules from current directory \n",
    "using DataFrames \n",
    "using Preprocess # from current directory\n",
    "\n",
    "train = readtable(\"0.kaggle/train.csv\")\n",
    "test = readtable(\"0.kaggle/test.csv\")\n",
    "combined = vcat(train,test)\n",
    "head(combined)"
   ]
  },
  {
   "cell_type": "code",
   "execution_count": 40,
   "metadata": {
    "collapsed": false
   },
   "outputs": [],
   "source": [
    "combined[:MSSubClass] = map(combined[:MSSubClass]) do x\n",
    "    string(\"__\", x)\n",
    "end\n",
    "combined[:MSSubClass]  = convert(DataArrays.DataArray{String,1}, combined[:MSSubClass]);"
   ]
  },
  {
   "cell_type": "markdown",
   "metadata": {
    "collapsed": true
   },
   "source": [
    "N.B. Alternatively, we could have reviewed the datatypes using the interactive function `review_ordinals!`.\n",
    "\n",
    "## Appraising the quality of the data\n",
    "The third column in the data frame constructed below shows the number of NA's in each field. Other columns give an idea of how they are distributed within the data. This information guides subsequent cleaning below. The various fields are described further [here](0.kaggle/data_summary.md). (To see the full list of field meta data, remove the second line below.)"
   ]
  },
  {
   "cell_type": "code",
   "execution_count": 41,
   "metadata": {
    "collapsed": false
   },
   "outputs": [
    {
     "data": {
      "text/html": [
       "<table class=\"data-frame\"><thead><tr><th></th><th>field</th><th>type</th><th>n_values</th><th>n_nas</th><th>percent_nas</th><th>row_of_first_non_na</th><th>nas_after_first_non_na</th></tr></thead><tbody><tr><th>1</th><td>Id</td><td>Int64</td><td>2919</td><td>0</td><td>0.0</td><td>1</td><td>0</td></tr><tr><th>2</th><td>MSSubClass</td><td>String</td><td>16</td><td>0</td><td>0.0</td><td>1</td><td>0</td></tr><tr><th>3</th><td>MSZoning</td><td>String</td><td>6</td><td>4</td><td>0.1</td><td>1</td><td>4</td></tr><tr><th>4</th><td>LotFrontage</td><td>Int64</td><td>129</td><td>486</td><td>16.6</td><td>1</td><td>486</td></tr><tr><th>5</th><td>LotArea</td><td>Int64</td><td>1951</td><td>0</td><td>0.0</td><td>1</td><td>0</td></tr><tr><th>6</th><td>Street</td><td>String</td><td>2</td><td>0</td><td>0.0</td><td>1</td><td>0</td></tr></tbody></table>"
      ],
      "text/plain": [
       "6×7 DataFrames.DataFrame\n",
       "│ Row │ field       │ type   │ n_values │ n_nas │ percent_nas │\n",
       "├─────┼─────────────┼────────┼──────────┼───────┼─────────────┤\n",
       "│ 1   │ Id          │ Int64  │ 2919     │ 0     │ 0.0         │\n",
       "│ 2   │ MSSubClass  │ String │ 16       │ 0     │ 0.0         │\n",
       "│ 3   │ MSZoning    │ String │ 6        │ 4     │ 0.1         │\n",
       "│ 4   │ LotFrontage │ Int64  │ 129      │ 486   │ 16.6        │\n",
       "│ 5   │ LotArea     │ Int64  │ 1951     │ 0     │ 0.0         │\n",
       "│ 6   │ Street      │ String │ 2        │ 0     │ 0.0         │\n",
       "\n",
       "│ Row │ row_of_first_non_na │ nas_after_first_non_na │\n",
       "├─────┼─────────────────────┼────────────────────────┤\n",
       "│ 1   │ 1                   │ 0                      │\n",
       "│ 2   │ 1                   │ 0                      │\n",
       "│ 3   │ 1                   │ 4                      │\n",
       "│ 4   │ 1                   │ 486                    │\n",
       "│ 5   │ 1                   │ 0                      │\n",
       "│ 6   │ 1                   │ 0                      │"
      ]
     },
     "execution_count": 41,
     "metadata": {},
     "output_type": "execute_result"
    }
   ],
   "source": [
    "meta = get_meta(combined)\n",
    "head(meta)"
   ]
  },
  {
   "cell_type": "markdown",
   "metadata": {},
   "source": [
    "## Determining outliers\n",
    "\n",
    "The following plot reveals two properties with huge living area but sale prices around the median value. "
   ]
  },
  {
   "cell_type": "code",
   "execution_count": 42,
   "metadata": {
    "collapsed": false
   },
   "outputs": [
    {
     "data": {
      "text/html": [
       "<img src=\"data:image/png;base64,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\" />"
      ]
     },
     "execution_count": 42,
     "metadata": {},
     "output_type": "execute_result"
    }
   ],
   "source": [
    "using Plots\n",
    "pyplot(size=(600,300))\n",
    "\n",
    "scatter(train[:GrLivArea], train[:SalePrice], markersize=2.0)"
   ]
  },
  {
   "cell_type": "code",
   "execution_count": 43,
   "metadata": {
    "collapsed": false
   },
   "outputs": [
    {
     "data": {
      "text/plain": [
       "163000.0"
      ]
     },
     "execution_count": 43,
     "metadata": {},
     "output_type": "execute_result"
    }
   ],
   "source": [
    "median(train[:SalePrice])"
   ]
  },
  {
   "cell_type": "markdown",
   "metadata": {},
   "source": [
    "We remove these from the data and record the new size of our combined data set (`Id=1461` is the first pattern in the test portion of the data):"
   ]
  },
  {
   "cell_type": "code",
   "execution_count": 44,
   "metadata": {
    "collapsed": false
   },
   "outputs": [
    {
     "data": {
      "text/plain": [
       "(2915,81)"
      ]
     },
     "execution_count": 44,
     "metadata": {},
     "output_type": "execute_result"
    }
   ],
   "source": [
    "mask_bad = (combined[:GrLivArea] .> 4000) .* (combined[:Id] .< 1461)\n",
    "mask_good = !mask_bad\n",
    "combined = combined[mask_good,:]\n",
    "\n",
    "nrows, ncols = size(combined)"
   ]
  },
  {
   "cell_type": "markdown",
   "metadata": {},
   "source": [
    "## Cleaning"
   ]
  },
  {
   "cell_type": "markdown",
   "metadata": {},
   "source": [
    "According to the [documentation](0.kaggle/detailed_documentation.txt), \"NA\" in `:Alley` means \"no access\" not \"unknown value\". Correct this:"
   ]
  },
  {
   "cell_type": "code",
   "execution_count": 45,
   "metadata": {
    "collapsed": false
   },
   "outputs": [],
   "source": [
    "combined[:Alley] = convert(Array, combined[:Alley], \"NoAccess\");"
   ]
  },
  {
   "cell_type": "markdown",
   "metadata": {},
   "source": [
    "Similar remarks apply to other fields:"
   ]
  },
  {
   "cell_type": "code",
   "execution_count": 46,
   "metadata": {
    "collapsed": false
   },
   "outputs": [],
   "source": [
    "combined[:PoolQC] = convert(Array, combined[:PoolQC], \"None\")\n",
    "combined[:MiscFeature] = convert(Array, combined[:MiscFeature], \"None\")\n",
    "combined[:Fence] = convert(Array, combined[:Fence], \"None\")\n",
    "combined[:FireplaceQu] = convert(Array, combined[:FireplaceQu], \"None\")\n",
    "combined[:Functional] = convert(Array, combined[:Functional], \"Typ\");"
   ]
  },
  {
   "cell_type": "markdown",
   "metadata": {},
   "source": [
    "We dump ordinal fields with more than 50% NAs. (Note that `.*` is broadcast version of logical AND.)"
   ]
  },
  {
   "cell_type": "code",
   "execution_count": 47,
   "metadata": {
    "collapsed": false
   },
   "outputs": [],
   "source": [
    "bad_fields = meta[(meta[:percent_nas] .> 50) .* (meta[:type] .!= String), :field]\n",
    "bad_fields = collect(bad_fields)\n",
    "filter!(x -> x != :SalePrice, bad_fields) # exclude target variable which is undefined in test portion of data\n",
    "delete!(combined, bad_fields);"
   ]
  },
  {
   "cell_type": "markdown",
   "metadata": {},
   "source": [
    "Dump categorical fields with more than 80% NAs:"
   ]
  },
  {
   "cell_type": "code",
   "execution_count": 48,
   "metadata": {
    "collapsed": false
   },
   "outputs": [],
   "source": [
    "bad_fields = meta[(meta[:percent_nas] .> 80) .* (meta[:type] .== String), :field]\n",
    "delete!(combined, bad_fields);"
   ]
  },
  {
   "cell_type": "markdown",
   "metadata": {},
   "source": [
    "Make \"NA\" a genuine value in remaining categoricals:"
   ]
  },
  {
   "cell_type": "code",
   "execution_count": 49,
   "metadata": {
    "collapsed": false
   },
   "outputs": [],
   "source": [
    "for f in names(combined)\n",
    "    if eltype(combined[f]) == String\n",
    "        combined[f] = convert(Array{String,1}, combined[f], \"_NA\")\n",
    "    end\n",
    "end"
   ]
  },
  {
   "cell_type": "markdown",
   "metadata": {},
   "source": [
    "To clean `LotFrontage` we shall suppose that, within each neighborhood,  `:LotFrontage` (which is measured in linear feet) correlates roughly with the *square root* of `:LotArea` (measured in square feet). So  letting `ratio` refers to `:LotFrontage/sqrt(:LotArea)` we begin by finding the median value of `ratio` in each neighborhood and storing this in a dictionary:"
   ]
  },
  {
   "cell_type": "code",
   "execution_count": 50,
   "metadata": {
    "collapsed": true
   },
   "outputs": [],
   "source": [
    "temp = by(combined, [:Neighborhood], df -> median(dropna(df[:LotFrontage]./sqrt(df[:LotArea]))))\n",
    "ratio = Dict{String,Float64}()\n",
    "for i in 1:first(size(temp))\n",
    "    ratio[temp[i,:Neighborhood]]=temp[i,:x1]\n",
    "end"
   ]
  },
  {
   "cell_type": "markdown",
   "metadata": {},
   "source": [
    "We now use this ratio to imputate NA values in `:LotFrontage`:"
   ]
  },
  {
   "cell_type": "code",
   "execution_count": 51,
   "metadata": {
    "collapsed": true
   },
   "outputs": [],
   "source": [
    "combined[:LotFrontage] =  convert(DataArray{Float64,1}, combined[:LotFrontage])\n",
    "for i in 1:nrows\n",
    "    if isna(combined[i,:LotFrontage])\n",
    "        combined[i,:LotFrontage] = ratio[combined[i,:Neighborhood]]*sqrt(combined[i,:LotArea])\n",
    "    end\n",
    "end"
   ]
  },
  {
   "cell_type": "markdown",
   "metadata": {},
   "source": [
    "Drop `:Utilities` as the field is virtually constant:"
   ]
  },
  {
   "cell_type": "code",
   "execution_count": 52,
   "metadata": {
    "collapsed": false
   },
   "outputs": [],
   "source": [
    "delete!(combined, :Utilities);"
   ]
  },
  {
   "cell_type": "markdown",
   "metadata": {},
   "source": [
    "We replace `MasVnrArea` (Masonry Veneer area) NAs with zeros:"
   ]
  },
  {
   "cell_type": "code",
   "execution_count": 53,
   "metadata": {
    "collapsed": false
   },
   "outputs": [],
   "source": [
    "combined[:MasVnrArea] = convert(Array, combined[:MasVnrArea], 0.0);"
   ]
  },
  {
   "cell_type": "markdown",
   "metadata": {},
   "source": [
    "Remaining NAs are replaced with median values:"
   ]
  },
  {
   "cell_type": "code",
   "execution_count": 54,
   "metadata": {
    "collapsed": false
   },
   "outputs": [],
   "source": [
    "meta = get_meta(combined)\n",
    "fields_to_fix = collect(meta[meta[:n_nas] .> 0,:][:field])\n",
    "filter!(x -> x != :SalePrice, fields_to_fix) # exclude target variable\n",
    "for f in fields_to_fix\n",
    "    m = median(dropna(combined[f]))\n",
    "    combined[f] = convert(Array{Float64, 1}, combined[f], m)\n",
    "end"
   ]
  },
  {
   "cell_type": "markdown",
   "metadata": {},
   "source": [
    "It turns out `:MSSubClass` takes on a value in the test set not appearing\n",
    "in the train set. We replace it with the mode value:"
   ]
  },
  {
   "cell_type": "code",
   "execution_count": 55,
   "metadata": {
    "collapsed": false
   },
   "outputs": [],
   "source": [
    "combined[:MSSubClass] = map(combined[:MSSubClass]) do x \n",
    "    x == \"_150\" ? \"_20\" : x\n",
    "end;"
   ]
  },
  {
   "cell_type": "markdown",
   "metadata": {},
   "source": [
    "## Transforming the target variable\n",
    "As we shall be optimizing our models to minimize log-root-mean-squared error, it is convenient to replace the target variable in our modelling, `:SalePrice`, with its logarithm:"
   ]
  },
  {
   "cell_type": "code",
   "execution_count": 56,
   "metadata": {
    "collapsed": false
   },
   "outputs": [],
   "source": [
    "combined[:target] = log(combined[:SalePrice])\n",
    "delete!(combined, :SalePrice);"
   ]
  },
  {
   "cell_type": "markdown",
   "metadata": {},
   "source": [
    "## Saving the cleaned data to file"
   ]
  },
  {
   "cell_type": "code",
   "execution_count": 57,
   "metadata": {
    "collapsed": true
   },
   "outputs": [],
   "source": [
    "train = combined[!isna(combined[:target]),:]\n",
    "test = combined[isna(combined[:target]),:]\n",
    "    \n",
    "writetable(\"2.cleaned/combined.csv\", combined)\n",
    "writetable(\"2.cleaned/train.csv\", train)\n",
    "writetable(\"2.cleaned/test.csv\", test)"
   ]
  },
  {
   "cell_type": "code",
   "execution_count": null,
   "metadata": {
    "collapsed": true
   },
   "outputs": [],
   "source": []
  }
 ],
 "metadata": {
  "kernelspec": {
   "display_name": "Julia 0.5.2",
   "language": "julia",
   "name": "julia-0.5"
  },
  "language_info": {
   "file_extension": ".jl",
   "mimetype": "application/julia",
   "name": "julia",
   "version": "0.5.2"
  }
 },
 "nbformat": 4,
 "nbformat_minor": 2
}
