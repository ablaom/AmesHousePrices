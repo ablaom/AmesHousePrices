{
 "cells": [
  {
   "cell_type": "markdown",
   "metadata": {},
   "source": [
    "# Ames House Price Data - Gradient Boosted Trees (XGBoost)\n",
    "\n",
    "> Juptyer notebook, running a Julia 0.5.2 kernel, with the help of Machine Learning modules written by the author\n",
    "\n",
    "*We build an XGBoost model using all available features*.\n",
    "\n",
    "Estimated 95% confidence interval for log-RMS error of Sale Price predictions for the tuned model: \n",
    "\n",
    "    0.113 ± 0.020\n",
    "\n",
    "## Reading in and transforming  the data\n",
    "Our gradient boosting algorithm is just a wrapping of the popular XGBoost algorithm (sitting atop [XGBoost.jl](https://github.com/dmlc/xgboost) of the Distributed Machine Learning Community). As this algorithm does not handle categorical features, we one-hot encode after loading and standardizing the data. Standardization is recommended because the effect of the regularization parameters is scale-dependent. "
   ]
  },
  {
   "cell_type": "code",
   "execution_count": 5,
   "metadata": {
    "collapsed": false
   },
   "outputs": [
    {
     "name": "stdout",
     "output_type": "stream",
     "text": [
      "Features standarized: \n",
      "  :LotFrontage    mu=71.23589949492492  sigma=24.720946372947626\n",
      "  :LotArea    mu=10448.78434065934  sigma=9860.763448771824\n",
      "  :OverallQual    mu=6.0885989010989015  sigma=1.3696691706201316\n",
      "  :OverallCond    mu=5.576236263736264  sigma=1.1139656335816104\n",
      "  :YearBuilt    mu=1971.1854395604396  sigma=30.201589946070243\n",
      "  :YearRemodAdd    mu=1984.819368131868  sigma=20.652142559919664\n",
      "  :MasVnrArea    mu=101.52678571428571  sigma=177.0117726788596\n",
      "  :BsmtFinSF1    mu=436.99107142857144  sigma=430.25505173352497\n",
      "  :BsmtFinSF2    mu=46.6771978021978  sigma=161.52237571837978\n",
      "  :BsmtUnfSF    mu=566.9903846153846  sigma=442.19718189265285\n",
      "  :TotalBsmtSF    mu=1050.6586538461538  sigma=412.15571520305724\n",
      "  :x1stFlrSF    mu=1157.1085164835165  sigma=369.3073305084563\n",
      "  :x2ndFlrSF    mu=343.532967032967  sigma=431.5289149184655\n",
      "  :LowQualFinSF    mu=5.860576923076923  sigma=48.68890442210665\n",
      "  :GrLivArea    mu=1506.5020604395604  sigma=496.8153784562889\n",
      "  :BsmtFullBath    mu=0.42376373626373626  sigma=0.5174200967417291\n",
      "  :BsmtHalfBath    mu=0.057005494505494504  sigma=0.23778552228629077\n",
      "  :FullBath    mu=1.5618131868131868  sigma=0.5476829124931561\n",
      "  :HalfBath    mu=0.38118131868131866  sigma=0.5025326702083289\n",
      "  :BedroomAbvGr    mu=2.864697802197802  sigma=0.8157999329534436\n",
      "  :KitchenAbvGr    mu=1.0467032967032968  sigma=0.22062730905568206\n",
      "  :TotRmsAbvGrd    mu=6.506181318681318  sigma=1.6118002076464022\n",
      "  :Fireplaces    mu=0.6092032967032966  sigma=0.6403589391998714\n",
      "  :GarageYrBlt    mu=1978.4711538461538  sigma=23.995915867582166\n",
      "  :GarageCars    mu=1.7644230769230769  sigma=0.7462147850444777\n",
      "  :GarageArea    mu=471.56868131868134  sigma=211.98642103284556\n",
      "  :WoodDeckSF    mu=93.83379120879121  sigma=125.19234899020674\n",
      "  :OpenPorchSF    mu=46.22115384615385  sigma=65.35242438894754\n",
      "  :EnclosedPorch    mu=22.014423076923077  sigma=61.192247881301206\n",
      "  :x3SsnPorch    mu=3.418956043956044  sigma=29.357055818526774\n",
      "  :ScreenPorch    mu=15.102335164835164  sigma=55.82840519089167\n",
      "  :PoolArea    mu=2.055631868131868  sigma=35.383772212101086\n",
      "  :MiscVal    mu=43.60851648351648  sigma=496.79926516206416\n",
      "  :MoSold    mu=6.326236263736264  sigma=2.69835609554556\n",
      "  :YrSold    mu=2007.8173076923076  sigma=1.3293937967255534\n"
     ]
    }
   ],
   "source": [
    "push!(LOAD_PATH, pwd()) # Allow loading of modules from current directory \n",
    "addprocs(3) # for parallel processing\n",
    "using Preprocess\n",
    "import DataFrames: head, readtable, writetable\n",
    "using Regressors, Validation\n",
    "import TreeCollections: DataTable\n",
    "\n",
    "df = readtable(\"2.cleaned/train_randomized.csv\")\n",
    "\n",
    "const y = collect(df[:target])\n",
    "\n",
    "x = df[2:end-1]\n",
    "s = StandardizationScheme(x)\n",
    "xx = transform(s, x)\n",
    "t = HotEncodingScheme(xx)\n",
    "const X = Array(transform(t, xx));"
   ]
  },
  {
   "cell_type": "markdown",
   "metadata": {},
   "source": [
    "## Parameter tuning and cross-validation\n",
    "\n",
    "XGBoost has quite a few parameters to tune, and we carried out tuning (not published in this notebook) according to [this post](https://www.analyticsvidhya.com/wp-content/uploads/2016/02/5.-gamma.png) of Aarshay Jain. \n"
   ]
  },
  {
   "cell_type": "code",
   "execution_count": null,
   "metadata": {
    "collapsed": true
   },
   "outputs": [],
   "source": [
    "rgs=XGBoostRegressor(alpha=0.006, lambda=0.0, subsample=0.66,\n",
    "                     colsample_bytree=0.55, eta=0.01, n=2000, min_child_weight=6.0, max_depth=3)\n",
    "\n",
    "\n",
    "# determine cross-validation error:\n",
    "errors_xgboost=cv_errors(rgs, X, y, n_folds=12, parallel=true, verbose=false); "
   ]
  },
  {
   "cell_type": "code",
   "execution_count": 7,
   "metadata": {
    "collapsed": false
   },
   "outputs": [
    {
     "data": {
      "text/plain": [
       "\"0.11299541209957703 ± 0.020329535514609094\""
      ]
     },
     "execution_count": 7,
     "metadata": {},
     "output_type": "execute_result"
    }
   ],
   "source": [
    "string(mean(errors_xgboost), \" ± \", std(errors_xgboost))"
   ]
  },
  {
   "cell_type": "code",
   "execution_count": 8,
   "metadata": {
    "collapsed": false
   },
   "outputs": [],
   "source": [
    "import JLD: jldopen, write, close\n",
    "file = jldopen(\"cv_errors.jld\", \"r+\") # open in append mode\n",
    "write(file, \"errors_xgboost\", errors_xgboost)\n",
    "close(file)"
   ]
  },
  {
   "cell_type": "code",
   "execution_count": null,
   "metadata": {
    "collapsed": true
   },
   "outputs": [],
   "source": []
  }
 ],
 "metadata": {
  "kernelspec": {
   "display_name": "Julia 0.5.2",
   "language": "julia",
   "name": "julia-0.5"
  },
  "language_info": {
   "file_extension": ".jl",
   "mimetype": "application/julia",
   "name": "julia",
   "version": "0.5.2"
  }
 },
 "nbformat": 4,
 "nbformat_minor": 2
}
