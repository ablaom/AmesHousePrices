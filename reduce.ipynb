{
 "cells": [
  {
   "cell_type": "markdown",
   "metadata": {},
   "source": [
    "# Ames House Price Data - Extraction of Important Features\n",
    ">Juptyer notebook, running a Julia 0.5.2 kernel, with the help of Machine Learning modules written by the author\n",
    "\n",
    "*Here we obtain a ranking of the importance of each feature using the decision tree regularization method of [Deng and Runger (2012)](https://arxiv.org/abs/1201.1587v3). Another way to extract important features, using the Lasso regularized linear model, is described in [The Elastic Net Model](ElasticNet.ipynb)* "
   ]
  },
  {
   "cell_type": "markdown",
   "metadata": {},
   "source": [
    "## Transforming the data\n",
    "\n",
    "The data is read in as a `DataFrame` instance but the regularized decision tree we build requires the input data to be in `DataTable` form. The `DataTable` form is defined in the `TreeCollections` module. The query `?DataTable` describes this data structure in detail. \n",
    "\n",
    "Note that we have no need to one-hot encode categoricals as our decision tree algorithms handle mixed data types.\n"
   ]
  },
  {
   "cell_type": "code",
   "execution_count": null,
   "metadata": {
    "collapsed": true
   },
   "outputs": [],
   "source": [
    "using ADBUtilities, Preprocess, Regressors, TreeCollections\n",
    "import DataFrames: DataFrame, head, readtable, writetable\n",
    "\n",
    "df = readtable(\"2.cleaned/train_randomized.csv\")\n",
    "\n",
    "const X = DataTable(df[2:end-1]) # drop the identifying feature :Id and the target\n",
    "const y = collect(df[:target]);"
   ]
  },
  {
   "cell_type": "markdown",
   "metadata": {},
   "source": [
    "## Ranking the features\n",
    "\n",
    "To build a Deng-Runger regularized tree we simply give the basic decision tree model a `penalty` keyword argument. We use the default value sugggested by the authors:"
   ]
  },
  {
   "cell_type": "code",
   "execution_count": 32,
   "metadata": {
    "collapsed": false
   },
   "outputs": [
    {
     "data": {
      "text/plain": [
       "TreeRegressor@...7531"
      ]
     },
     "execution_count": 32,
     "metadata": {},
     "output_type": "execute_result"
    }
   ],
   "source": [
    "tree = TreeRegressor(X,y,penalty=0.5)"
   ]
  },
  {
   "cell_type": "code",
   "execution_count": 33,
   "metadata": {
    "collapsed": false
   },
   "outputs": [
    {
     "data": {
      "text/plain": [
       "Dict{Symbol,Any} with 6 entries:\n",
       "  :max_features       => 0\n",
       "  :extreme            => false\n",
       "  :regularization     => 0.0\n",
       "  :min_patterns_split => 2\n",
       "  :cutoff             => 0\n",
       "  :penalty            => 0.5"
      ]
     },
     "metadata": {},
     "output_type": "display_data"
    },
    {
     "name": "stdout",
     "output_type": "stream",
     "text": [
      "TreeRegressor@...7531\n",
      "  Hyperparameters:\n",
      "\u001b[1m\u001b[37m                            Feature importance\n",
      "\u001b[0m\u001b[1m\u001b[37m                 ┌────────────────────────────────────────┐\u001b[0m \n",
      "     \u001b[1m\u001b[37mOverallQual\u001b[0m\u001b[1m\u001b[37m │\u001b[0m\u001b[1m\u001b[34m▪▪▪▪▪▪▪▪▪▪▪▪▪▪▪▪▪▪▪▪▪▪▪▪▪▪▪▪▪▪▪▪▪▪▪\u001b[0m\u001b[1m\u001b[37m 1.0\u001b[0m \u001b[1m\u001b[37m│\u001b[0m \u001b[1m\u001b[37m\u001b[0m\n",
      "       \u001b[1m\u001b[37mGrLivArea\u001b[0m\u001b[1m\u001b[37m │\u001b[0m\u001b[1m\u001b[34m▪▪▪▪▪▪▪▪▪▪▪▪▪▪▪▪▪▪▪▪▪▪▪▪▪▪▪▪▪\u001b[0m\u001b[1m\u001b[37m 0.824\u001b[0m     \u001b[1m\u001b[37m│\u001b[0m \u001b[1m\u001b[37m\u001b[0m\n",
      "      \u001b[1m\u001b[37mGarageCars\u001b[0m\u001b[1m\u001b[37m │\u001b[0m\u001b[1m\u001b[34m▪▪▪▪▪▪▪▪▪▪▪▪▪▪▪▪▪▪▪▪▪▪▪▪▪▪▪▪▪\u001b[0m\u001b[1m\u001b[37m 0.824\u001b[0m     \u001b[1m\u001b[37m│\u001b[0m \u001b[1m\u001b[37m\u001b[0m\n",
      "      \u001b[1m\u001b[37mMSSubClass\u001b[0m\u001b[1m\u001b[37m │\u001b[0m\u001b[1m\u001b[34m▪▪▪▪▪▪▪▪▪▪▪▪▪▪▪▪▪▪▪▪▪▪▪▪▪▪▪\u001b[0m\u001b[1m\u001b[37m 0.765\u001b[0m       \u001b[1m\u001b[37m│\u001b[0m \u001b[1m\u001b[37m\u001b[0m\n",
      "          \u001b[1m\u001b[37mMoSold\u001b[0m\u001b[1m\u001b[37m │\u001b[0m\u001b[1m\u001b[34m▪▪▪▪▪▪▪▪▪▪▪▪▪▪▪▪▪▪▪▪▪▪▪▪▪\u001b[0m\u001b[1m\u001b[37m 0.706\u001b[0m         \u001b[1m\u001b[37m│\u001b[0m \u001b[1m\u001b[37m\u001b[0m\n",
      "       \u001b[1m\u001b[37mLandSlope\u001b[0m\u001b[1m\u001b[37m │\u001b[0m\u001b[1m\u001b[34m▪▪▪▪▪▪▪▪▪▪▪▪▪▪▪▪▪▪▪▪▪▪▪▪▪\u001b[0m\u001b[1m\u001b[37m 0.706\u001b[0m         \u001b[1m\u001b[37m│\u001b[0m \u001b[1m\u001b[37m\u001b[0m\n",
      "      \u001b[1m\u001b[37mBsmtFinSF1\u001b[0m\u001b[1m\u001b[37m │\u001b[0m\u001b[1m\u001b[34m▪▪▪▪▪▪▪▪▪▪▪▪▪▪▪▪▪▪▪▪▪▪▪▪▪\u001b[0m\u001b[1m\u001b[37m 0.706\u001b[0m         \u001b[1m\u001b[37m│\u001b[0m \u001b[1m\u001b[37m\u001b[0m\n",
      "      \u001b[1m\u001b[37mFireplaces\u001b[0m\u001b[1m\u001b[37m │\u001b[0m\u001b[1m\u001b[34m▪▪▪▪▪▪▪▪▪▪▪▪▪▪▪▪▪▪▪▪▪▪▪▪▪\u001b[0m\u001b[1m\u001b[37m 0.706\u001b[0m         \u001b[1m\u001b[37m│\u001b[0m \u001b[1m\u001b[37m\u001b[0m\n",
      "    \u001b[1m\u001b[37mTotRmsAbvGrd\u001b[0m\u001b[1m\u001b[37m │\u001b[0m\u001b[1m\u001b[34m▪▪▪▪▪▪▪▪▪▪▪▪▪▪▪▪▪▪▪▪▪▪▪▪▪\u001b[0m\u001b[1m\u001b[37m 0.706\u001b[0m         \u001b[1m\u001b[37m│\u001b[0m \u001b[1m\u001b[37m\u001b[0m\n",
      "        \u001b[1m\u001b[37mMSZoning\u001b[0m\u001b[1m\u001b[37m │\u001b[0m\u001b[1m\u001b[34m▪▪▪▪▪▪▪▪▪▪▪▪▪▪▪▪▪▪▪▪▪▪▪▪▪\u001b[0m\u001b[1m\u001b[37m 0.706\u001b[0m         \u001b[1m\u001b[37m│\u001b[0m \u001b[1m\u001b[37m\u001b[0m\n",
      "        \u001b[1m\u001b[37mSaleType\u001b[0m\u001b[1m\u001b[37m │\u001b[0m\u001b[1m\u001b[34m▪▪▪▪▪▪▪▪▪▪▪▪▪▪▪▪▪▪▪▪▪▪▪\u001b[0m\u001b[1m\u001b[37m 0.647\u001b[0m           \u001b[1m\u001b[37m│\u001b[0m \u001b[1m\u001b[37m\u001b[0m\n",
      "     \u001b[1m\u001b[37mTotalBsmtSF\u001b[0m\u001b[1m\u001b[37m │\u001b[0m\u001b[1m\u001b[34m▪▪▪▪▪▪▪▪▪▪▪▪▪▪▪▪▪▪▪▪▪▪▪\u001b[0m\u001b[1m\u001b[37m 0.647\u001b[0m           \u001b[1m\u001b[37m│\u001b[0m \u001b[1m\u001b[37m\u001b[0m\n",
      "       \u001b[1m\u001b[37mBsmtUnfSF\u001b[0m\u001b[1m\u001b[37m │\u001b[0m\u001b[1m\u001b[34m▪▪▪▪▪▪▪▪▪▪▪▪▪▪▪▪▪▪▪▪▪▪▪\u001b[0m\u001b[1m\u001b[37m 0.647\u001b[0m           \u001b[1m\u001b[37m│\u001b[0m \u001b[1m\u001b[37m\u001b[0m\n",
      "      \u001b[1m\u001b[37mHouseStyle\u001b[0m\u001b[1m\u001b[37m │\u001b[0m\u001b[1m\u001b[34m▪▪▪▪▪▪▪▪▪▪▪▪▪▪▪▪▪▪▪▪▪▪▪\u001b[0m\u001b[1m\u001b[37m 0.647\u001b[0m           \u001b[1m\u001b[37m│\u001b[0m \u001b[1m\u001b[37m\u001b[0m\n",
      "          \u001b[1m\u001b[37mYrSold\u001b[0m\u001b[1m\u001b[37m │\u001b[0m\u001b[1m\u001b[34m▪▪▪▪▪▪▪▪▪▪▪▪▪▪▪▪▪▪▪▪▪\u001b[0m\u001b[1m\u001b[37m 0.588\u001b[0m             \u001b[1m\u001b[37m│\u001b[0m \u001b[1m\u001b[37m\u001b[0m\n",
      "       \u001b[1m\u001b[37mRoofStyle\u001b[0m\u001b[1m\u001b[37m │\u001b[0m\u001b[1m\u001b[34m▪▪▪▪▪▪▪▪▪▪▪▪▪▪▪▪▪▪▪▪▪\u001b[0m\u001b[1m\u001b[37m 0.588\u001b[0m             \u001b[1m\u001b[37m│\u001b[0m \u001b[1m\u001b[37m\u001b[0m\n",
      "     \u001b[1m\u001b[37mExterior1st\u001b[0m\u001b[1m\u001b[37m │\u001b[0m\u001b[1m\u001b[34m▪▪▪▪▪▪▪▪▪▪▪▪▪▪▪▪▪▪▪▪▪\u001b[0m\u001b[1m\u001b[37m 0.588\u001b[0m             \u001b[1m\u001b[37m│\u001b[0m \u001b[1m\u001b[37m\u001b[0m\n",
      "      \u001b[1m\u001b[37mGarageQual\u001b[0m\u001b[1m\u001b[37m │\u001b[0m\u001b[1m\u001b[34m▪▪▪▪▪▪▪▪▪▪▪▪▪▪▪▪▪▪▪▪▪\u001b[0m\u001b[1m\u001b[37m 0.588\u001b[0m             \u001b[1m\u001b[37m│\u001b[0m \u001b[1m\u001b[37m\u001b[0m\n",
      "    \u001b[1m\u001b[37mBedroomAbvGr\u001b[0m\u001b[1m\u001b[37m │\u001b[0m\u001b[1m\u001b[34m▪▪▪▪▪▪▪▪▪▪▪▪▪▪▪▪▪▪▪▪▪\u001b[0m\u001b[1m\u001b[37m 0.588\u001b[0m             \u001b[1m\u001b[37m│\u001b[0m \u001b[1m\u001b[37m\u001b[0m\n",
      "      \u001b[1m\u001b[37mWoodDeckSF\u001b[0m\u001b[1m\u001b[37m │\u001b[0m\u001b[1m\u001b[34m▪▪▪▪▪▪▪▪▪▪▪▪▪▪▪▪▪▪▪▪▪\u001b[0m\u001b[1m\u001b[37m 0.588\u001b[0m             \u001b[1m\u001b[37m│\u001b[0m \u001b[1m\u001b[37m\u001b[0m\n",
      "   \u001b[1m\u001b[37mEnclosedPorch\u001b[0m\u001b[1m\u001b[37m │\u001b[0m\u001b[1m\u001b[34m▪▪▪▪▪▪▪▪▪▪▪▪▪▪▪▪▪▪▪▪▪\u001b[0m\u001b[1m\u001b[37m 0.588\u001b[0m             \u001b[1m\u001b[37m│\u001b[0m \u001b[1m\u001b[37m\u001b[0m\n",
      "     \u001b[1m\u001b[37mFireplaceQu\u001b[0m\u001b[1m\u001b[37m │\u001b[0m\u001b[1m\u001b[34m▪▪▪▪▪▪▪▪▪▪▪▪▪▪▪▪▪▪▪▪▪\u001b[0m\u001b[1m\u001b[37m 0.588\u001b[0m             \u001b[1m\u001b[37m│\u001b[0m \u001b[1m\u001b[37m\u001b[0m\n",
      "     \u001b[1m\u001b[37mScreenPorch\u001b[0m\u001b[1m\u001b[37m │\u001b[0m\u001b[1m\u001b[34m▪▪▪▪▪▪▪▪▪▪▪▪▪▪▪▪▪▪▪▪▪\u001b[0m\u001b[1m\u001b[37m 0.588\u001b[0m             \u001b[1m\u001b[37m│\u001b[0m \u001b[1m\u001b[37m\u001b[0m\n",
      "        \u001b[1m\u001b[37mBsmtQual\u001b[0m\u001b[1m\u001b[37m │\u001b[0m\u001b[1m\u001b[34m▪▪▪▪▪▪▪▪▪▪▪▪▪▪▪▪▪▪▪\u001b[0m\u001b[1m\u001b[37m 0.529\u001b[0m               \u001b[1m\u001b[37m│\u001b[0m \u001b[1m\u001b[37m\u001b[0m\n",
      "      \u001b[1m\u001b[37mFunctional\u001b[0m\u001b[1m\u001b[37m │\u001b[0m\u001b[1m\u001b[34m▪▪▪▪▪▪▪▪▪▪▪▪▪▪▪▪▪▪▪\u001b[0m\u001b[1m\u001b[37m 0.529\u001b[0m               \u001b[1m\u001b[37m│\u001b[0m \u001b[1m\u001b[37m\u001b[0m\n",
      "   \u001b[1m\u001b[37m\u001b[0m  \u001b[1m\u001b[37mExterior2nd\u001b[0m\u001b[1m\u001b[37m │\u001b[0m\u001b[1m\u001b[34m▪▪▪▪▪▪▪▪▪▪▪▪▪▪▪▪▪▪▪\u001b[0m\u001b[1m\u001b[37m 0.529\u001b[0m               \u001b[1m\u001b[37m│\u001b[0m \u001b[1m\u001b[37m\u001b[0m\n",
      "      \u001b[1m\u001b[37mGarageArea\u001b[0m\u001b[1m\u001b[37m │\u001b[0m\u001b[1m\u001b[34m▪▪▪▪▪▪▪▪▪▪▪▪▪▪▪▪▪▪▪\u001b[0m\u001b[1m\u001b[37m 0.529\u001b[0m               \u001b[1m\u001b[37m│\u001b[0m \u001b[1m\u001b[37m\u001b[0m\n",
      "    \u001b[1m\u001b[37mYearRemodAdd\u001b[0m\u001b[1m\u001b[37m │\u001b[0m\u001b[1m\u001b[34m▪▪▪▪▪▪▪▪▪▪▪▪▪▪▪▪▪▪▪\u001b[0m\u001b[1m\u001b[37m 0.529\u001b[0m               \u001b[1m\u001b[37m│\u001b[0m \u001b[1m\u001b[37m\u001b[0m\n",
      "    \u001b[1m\u001b[37mBsmtFinType2\u001b[0m\u001b[1m\u001b[37m │\u001b[0m\u001b[1m\u001b[34m▪▪▪▪▪▪▪▪▪▪▪▪▪▪▪▪▪▪▪\u001b[0m\u001b[1m\u001b[37m 0.529\u001b[0m               \u001b[1m\u001b[37m│\u001b[0m \u001b[1m\u001b[37m\u001b[0m\n",
      "    \u001b[1m\u001b[37mBsmtFinType1\u001b[0m\u001b[1m\u001b[37m │\u001b[0m\u001b[1m\u001b[34m▪▪▪▪▪▪▪▪▪▪▪▪▪▪▪▪▪▪▪\u001b[0m\u001b[1m\u001b[37m 0.529\u001b[0m               \u001b[1m\u001b[37m│\u001b[0m \u001b[1m\u001b[37m\u001b[0m\n",
      "      \u001b[1m\u001b[37mCondition1\u001b[0m\u001b[1m\u001b[37m │\u001b[0m\u001b[1m\u001b[34m▪▪▪▪▪▪▪▪▪▪▪▪▪▪▪▪▪▪▪\u001b[0m\u001b[1m\u001b[37m 0.529\u001b[0m               \u001b[1m\u001b[37m│\u001b[0m \u001b[1m\u001b[37m\u001b[0m\n",
      "       \u001b[1m\u001b[37mx1stFlrSF\u001b[0m\u001b[1m\u001b[37m │\u001b[0m\u001b[1m\u001b[34m▪▪▪▪▪▪▪▪▪▪▪▪▪▪▪▪\u001b[0m\u001b[1m\u001b[37m 0.471\u001b[0m                  \u001b[1m\u001b[37m│\u001b[0m \u001b[1m\u001b[37m\u001b[0m\n",
      "      \u001b[1m\u001b[37mGarageType\u001b[0m\u001b[1m\u001b[37m │\u001b[0m\u001b[1m\u001b[34m▪▪▪▪▪▪▪▪▪▪▪▪▪▪▪▪\u001b[0m\u001b[1m\u001b[37m 0.471\u001b[0m                  \u001b[1m\u001b[37m│\u001b[0m \u001b[1m\u001b[37m\u001b[0m\n",
      "     \u001b[1m\u001b[37mOverallCond\u001b[0m\u001b[1m\u001b[37m │\u001b[0m\u001b[1m\u001b[34m▪▪▪▪▪▪▪▪▪▪▪▪▪▪▪▪\u001b[0m\u001b[1m\u001b[37m 0.471\u001b[0m                  \u001b[1m\u001b[37m│\u001b[0m \u001b[1m\u001b[37m\u001b[0m\n",
      "       \u001b[1m\u001b[37mx2ndFlrSF\u001b[0m\u001b[1m\u001b[37m │\u001b[0m\u001b[1m\u001b[34m▪▪▪▪▪▪▪▪▪▪▪▪▪▪▪▪\u001b[0m\u001b[1m\u001b[37m 0.471\u001b[0m                  \u001b[1m\u001b[37m│\u001b[0m \u001b[1m\u001b[37m\u001b[0m\n",
      "    \u001b[1m\u001b[37mBsmtHalfBath\u001b[0m\u001b[1m\u001b[37m │\u001b[0m\u001b[1m\u001b[34m▪▪▪▪▪▪▪▪▪▪▪▪▪▪▪▪\u001b[0m\u001b[1m\u001b[37m 0.471\u001b[0m                  \u001b[1m\u001b[37m│\u001b[0m \u001b[1m\u001b[37m\u001b[0m\n",
      "        \u001b[1m\u001b[37mHalfBath\u001b[0m\u001b[1m\u001b[37m │\u001b[0m\u001b[1m\u001b[34m▪▪▪▪▪▪▪▪▪▪▪▪▪▪\u001b[0m\u001b[1m\u001b[37m 0.412\u001b[0m                    \u001b[1m\u001b[37m│\u001b[0m \u001b[1m\u001b[37m\u001b[0m\n",
      "    \u001b[1m\u001b[37mGarageFinish\u001b[0m\u001b[1m\u001b[37m │\u001b[0m\u001b[1m\u001b[34m▪▪▪▪▪▪▪▪▪▪▪▪▪▪\u001b[0m\u001b[1m\u001b[37m 0.412\u001b[0m                    \u001b[1m\u001b[37m│\u001b[0m \u001b[1m\u001b[37m\u001b[0m\n",
      "      \u001b[1m\u001b[37mMasVnrType\u001b[0m\u001b[1m\u001b[37m │\u001b[0m\u001b[1m\u001b[34m▪▪▪▪▪▪▪▪▪▪▪▪\u001b[0m\u001b[1m\u001b[37m 0.353\u001b[0m                      \u001b[1m\u001b[37m│\u001b[0m \u001b[1m\u001b[37m\u001b[0m\n",
      "      \u001b[1m\u001b[37mMasVnrArea\u001b[0m\u001b[1m\u001b[37m │\u001b[0m\u001b[1m\u001b[34m▪▪▪▪▪▪▪▪▪▪▪▪\u001b[0m\u001b[1m\u001b[37m 0.353\u001b[0m                      \u001b[1m\u001b[37m│\u001b[0m \u001b[1m\u001b[37m\u001b[0m\n",
      "     \u001b[1m\u001b[37mLotFrontage\u001b[0m\u001b[1m\u001b[37m │\u001b[0m\u001b[1m\u001b[34m▪▪▪▪▪▪▪▪▪▪▪▪\u001b[0m\u001b[1m\u001b[37m 0.353\u001b[0m                      \u001b[1m\u001b[37m│\u001b[0m \u001b[1m\u001b[37m\u001b[0m\n",
      "     \u001b[1m\u001b[37mOpenPorchSF\u001b[0m\u001b[1m\u001b[37m │\u001b[0m\u001b[1m\u001b[34m▪▪▪▪▪▪▪▪▪▪▪▪\u001b[0m\u001b[1m\u001b[37m 0.353\u001b[0m                      \u001b[1m\u001b[37m│\u001b[0m \u001b[1m\u001b[37m\u001b[0m\n",
      "      \u001b[1m\u001b[37mFoundation\u001b[0m\u001b[1m\u001b[37m │\u001b[0m\u001b[1m\u001b[34m▪▪▪▪▪▪▪▪▪▪\u001b[0m\u001b[1m\u001b[37m 0.294\u001b[0m                        \u001b[1m\u001b[37m│\u001b[0m \u001b[1m\u001b[37m\u001b[0m\n",
      "        \u001b[1m\u001b[37mLotShape\u001b[0m\u001b[1m\u001b[37m │\u001b[0m\u001b[1m\u001b[34m▪▪▪▪▪▪▪▪▪▪\u001b[0m\u001b[1m\u001b[37m 0.294\u001b[0m                        \u001b[1m\u001b[37m│\u001b[0m \u001b[1m\u001b[37m\u001b[0m\n",
      "    \u001b[1m\u001b[37mNeighborhood\u001b[0m\u001b[1m\u001b[37m │\u001b[0m\u001b[1m\u001b[34m▪▪▪▪▪▪▪▪▪▪\u001b[0m\u001b[1m\u001b[37m 0.294\u001b[0m                        \u001b[1m\u001b[37m│\u001b[0m \u001b[1m\u001b[37m\u001b[0m\n",
      "    \u001b[1m\u001b[37mBsmtExposure\u001b[0m\u001b[1m\u001b[37m │\u001b[0m\u001b[1m\u001b[34m▪▪▪▪▪▪▪▪▪▪\u001b[0m\u001b[1m\u001b[37m 0.294\u001b[0m                        \u001b[1m\u001b[37m│\u001b[0m \u001b[1m\u001b[37m\u001b[0m\n",
      "    \u001b[1m\u001b[37mBsmtFullBath\u001b[0m\u001b[1m\u001b[37m │\u001b[0m\u001b[1m\u001b[34m▪▪▪▪▪▪▪▪▪▪\u001b[0m\u001b[1m\u001b[37m 0.294\u001b[0m                        \u001b[1m\u001b[37m│\u001b[0m \u001b[1m\u001b[37m\u001b[0m\n",
      "         \u001b[1m\u001b[37mLotArea\u001b[0m\u001b[1m\u001b[37m │\u001b[0m\u001b[1m\u001b[34m▪▪▪▪▪▪▪▪▪▪\u001b[0m\u001b[1m\u001b[37m 0.294\u001b[0m                        \u001b[1m\u001b[37m│\u001b[0m \u001b[1m\u001b[37m\u001b[0m\n",
      "       \u001b[1m\u001b[37mLotConfig\u001b[0m\u001b[1m\u001b[37m │\u001b[0m\u001b[1m\u001b[34m▪▪▪▪▪▪▪▪▪▪\u001b[0m\u001b[1m\u001b[37m 0.294\u001b[0m                        \u001b[1m\u001b[37m│\u001b[0m \u001b[1m\u001b[37m\u001b[0m\n",
      "       \u001b[1m\u001b[37mExterQual\u001b[0m\u001b[1m\u001b[37m │\u001b[0m\u001b[1m\u001b[34m▪▪▪▪▪▪\u001b[0m\u001b[1m\u001b[37m 0.176\u001b[0m                            \u001b[1m\u001b[37m│\u001b[0m \u001b[1m\u001b[37m\u001b[0m\n",
      "        \u001b[1m\u001b[37mBsmtCond\u001b[0m\u001b[1m\u001b[37m │\u001b[0m\u001b[1m\u001b[34m▪▪▪▪\u001b[0m\u001b[1m\u001b[37m 0.118\u001b[0m                              \u001b[1m\u001b[37m│\u001b[0m \u001b[1m\u001b[37m\u001b[0m\n",
      "       \u001b[1m\u001b[37mYearBuilt\u001b[0m\u001b[1m\u001b[37m │\u001b[0m\u001b[1m\u001b[34m\u001b[0m\u001b[1m\u001b[37m 0.0\u001b[0m                                    \u001b[1m\u001b[37m│\u001b[0m \u001b[1m\u001b[37m\u001b[0m\n",
      "\u001b[1m\u001b[37m                 └────────────────────────────────────────┘\u001b[0m \n"
     ]
    }
   ],
   "source": [
    "@more # shorthand for `showall(ans)`"
   ]
  },
  {
   "cell_type": "markdown",
   "metadata": {},
   "source": [
    "By definition, the *importance* of a feature is one minus the normalized depth at which a feature first appears at a decision node. A dictionary of feature importance, keyed on feature index, is stored as the `importance_given_feature` attribute of `tree`. We record the 40 most important feautres:"
   ]
  },
  {
   "cell_type": "code",
   "execution_count": 34,
   "metadata": {
    "collapsed": false
   },
   "outputs": [
    {
     "data": {
      "text/plain": [
       "40-element Array{Symbol,1}:\n",
       " :OverallQual \n",
       " :GrLivArea   \n",
       " :GarageCars  \n",
       " :MSSubClass  \n",
       " :MoSold      \n",
       " :LandSlope   \n",
       " :BsmtFinSF1  \n",
       " :Fireplaces  \n",
       " :TotRmsAbvGrd\n",
       " :MSZoning    \n",
       " :SaleType    \n",
       " :TotalBsmtSF \n",
       " :BsmtUnfSF   \n",
       " ⋮            \n",
       " :BsmtFinType2\n",
       " :BsmtFinType1\n",
       " :Condition1  \n",
       " :x1stFlrSF   \n",
       " :GarageType  \n",
       " :OverallCond \n",
       " :x2ndFlrSF   \n",
       " :BsmtHalfBath\n",
       " :HalfBath    \n",
       " :GarageFinish\n",
       " :MasVnrType  \n",
       " :MasVnrArea  "
      ]
     },
     "execution_count": 34,
     "metadata": {},
     "output_type": "execute_result"
    }
   ],
   "source": [
    "importance_given_feature = tree.importance_given_feature\n",
    "\n",
    "important_feature_indices = reverse(collect(keys_ordered_by_values(importance_given_feature)))[1:40]\n",
    "important_features = [X.names[j] for j in important_feature_indices]\n"
   ]
  },
  {
   "cell_type": "markdown",
   "metadata": {},
   "source": [
    "We see that about half of the 40 most important features are ordinal, half categorical:"
   ]
  },
  {
   "cell_type": "code",
   "execution_count": 35,
   "metadata": {
    "collapsed": false
   },
   "outputs": [
    {
     "data": {
      "text/plain": [
       "22"
      ]
     },
     "execution_count": 35,
     "metadata": {},
     "output_type": "execute_result"
    }
   ],
   "source": [
    "sum(X[important_features].scheme.is_ordinal)"
   ]
  },
  {
   "cell_type": "markdown",
   "metadata": {},
   "source": [
    "## Writing results to file"
   ]
  },
  {
   "cell_type": "code",
   "execution_count": 36,
   "metadata": {
    "collapsed": false
   },
   "outputs": [],
   "source": [
    "dg = DataFrame([important_features,],[:field,])\n",
    "\n",
    "writetable(\"3.important_features/important_features.csv\", dg)"
   ]
  }
 ],
 "metadata": {
  "kernelspec": {
   "display_name": "Julia 0.5.2",
   "language": "julia",
   "name": "julia-0.5"
  },
  "language_info": {
   "file_extension": ".jl",
   "mimetype": "application/julia",
   "name": "julia",
   "version": "0.5.2"
  }
 },
 "nbformat": 4,
 "nbformat_minor": 2
}
