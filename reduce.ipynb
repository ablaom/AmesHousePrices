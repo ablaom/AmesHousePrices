{
 "cells": [
  {
   "cell_type": "markdown",
   "metadata": {},
   "source": [
    "# Ames House Price Data - Extraction of Important Features\n",
    ">Juptyer notebook, running a Julia 0.5.2 kernel, with the help of Machine Learning modules written by the author\n",
    "\n",
    "*Here we obtain a ranking of the importance of each feature using the decision tree regularization method of [Deng and Runger (2012)](https://arxiv.org/abs/1201.1587v3). Another way to extract important features, using the Lasso regularized linear model, is described in [The Elastic Net Model](ElasticNet.ipynb)* "
   ]
  },
  {
   "cell_type": "markdown",
   "metadata": {},
   "source": [
    "## Transforming the data\n",
    "\n",
    "The data is read in as a `DataFrame` instance but the regularized decision tree we build requires the input data to be in `DataTable` form. The `DataTable` form is defined in the `TreeCollections` module. The query `?DataTable` describes this data structure in detail. \n",
    "\n",
    "Note that we have no need to one-hot encode categoricals as our decision tree algorithms handle mixed data types.\n"
   ]
  },
  {
   "cell_type": "code",
   "execution_count": null,
   "metadata": {
    "collapsed": true
   },
   "outputs": [],
   "source": [
    "push!(LOAD_PATH, pwd()) # Allow loading of modules from current directory \n",
    "using ADBUtilities, Preprocess, Regressors, TreeCollections\n",
    "import DataFrames: DataFrame, head, readtable, writetable\n",
    "\n",
    "df = readtable(\"2.cleaned/train_randomized.csv\")\n",
    "\n",
    "const X = DataTable(df[2:end-1]) # drop the identifying feature :Id and the target\n",
    "const y = collect(df[:target]);"
   ]
  },
  {
   "cell_type": "markdown",
   "metadata": {},
   "source": [
    "## Ranking the features\n",
    "\n",
    "To build a Deng-Runger regularized tree we simply give the basic decision tree model a `penalty` keyword argument. We use the default value sugggested by the authors:"
   ]
  },
  {
   "cell_type": "code",
   "execution_count": 2,
   "metadata": {
    "collapsed": false
   },
   "outputs": [
    {
     "data": {
      "text/plain": [
       "TreeRegressor@...3115"
      ]
     },
     "execution_count": 2,
     "metadata": {},
     "output_type": "execute_result"
    }
   ],
   "source": [
    "tree = TreeRegressor(X,y,penalty=0.5)"
   ]
  },
  {
   "cell_type": "code",
   "execution_count": 3,
   "metadata": {
    "collapsed": false
   },
   "outputs": [
    {
     "data": {
      "text/plain": [
       "Dict{Symbol,Any} with 7 entries:\n",
       "  :max_features             => 0\n",
       "  :extreme                  => false\n",
       "  :regularization           => 0.0\n",
       "  :min_patterns_split       => 2\n",
       "  :popularity_given_feature => Dict(68=>35,2=>131,11=>28,46=>6,25=>13,55=>26,42…\n",
       "  :cutoff                   => 0\n",
       "  :penalty                  => 0.5"
      ]
     },
     "metadata": {},
     "output_type": "display_data"
    },
    {
     "name": "stdout",
     "output_type": "stream",
     "text": [
      "TreeRegressor@...3115\n",
      "  Hyperparameters:\n",
      "\u001b[1m\u001b[37m                            Feature importance\n",
      "\u001b[0m\u001b[1m\u001b[37m                 ┌────────────────────────────────────────┐\u001b[0m \n",
      "     \u001b[1m\u001b[37mOverallQual\u001b[0m\u001b[1m\u001b[37m │\u001b[0m\u001b[1m\u001b[34m▪▪▪▪▪▪▪▪▪▪▪▪▪▪▪▪▪▪▪▪▪▪▪▪▪▪▪▪▪▪▪▪▪\u001b[0m\u001b[1m\u001b[37m 0.218\u001b[0m \u001b[1m\u001b[37m│\u001b[0m \u001b[1m\u001b[37m\u001b[0m\n",
      "       \u001b[1m\u001b[37mGrLivArea\u001b[0m\u001b[1m\u001b[37m │\u001b[0m\u001b[1m\u001b[34m▪▪▪▪▪▪▪▪▪▪▪▪▪▪▪▪▪▪▪▪▪▪▪▪\u001b[0m\u001b[1m\u001b[37m 0.158\u001b[0m          \u001b[1m\u001b[37m│\u001b[0m \u001b[1m\u001b[37m\u001b[0m\n",
      "    \u001b[1m\u001b[37mNeighborhood\u001b[0m\u001b[1m\u001b[37m │\u001b[0m\u001b[1m\u001b[34m▪▪▪▪▪▪▪▪▪▪▪▪▪▪▪▪▪▪▪\u001b[0m\u001b[1m\u001b[37m 0.125\u001b[0m               \u001b[1m\u001b[37m│\u001b[0m \u001b[1m\u001b[37m\u001b[0m\n",
      "       \u001b[1m\u001b[37mx1stFlrSF\u001b[0m\u001b[1m\u001b[37m │\u001b[0m\u001b[1m\u001b[34m▪▪▪▪▪▪▪▪▪▪▪▪\u001b[0m\u001b[1m\u001b[37m 0.08\u001b[0m                       \u001b[1m\u001b[37m│\u001b[0m \u001b[1m\u001b[37m\u001b[0m\n",
      "     \u001b[1m\u001b[37mTotalBsmtSF\u001b[0m\u001b[1m\u001b[37m │\u001b[0m\u001b[1m\u001b[34m▪▪▪▪▪▪▪▪▪▪▪\u001b[0m\u001b[1m\u001b[37m 0.074\u001b[0m                       \u001b[1m\u001b[37m│\u001b[0m \u001b[1m\u001b[37m\u001b[0m\n",
      "      \u001b[1m\u001b[37mBsmtFinSF1\u001b[0m\u001b[1m\u001b[37m │\u001b[0m\u001b[1m\u001b[34m▪▪▪▪▪▪▪▪▪\u001b[0m\u001b[1m\u001b[37m 0.06\u001b[0m                          \u001b[1m\u001b[37m│\u001b[0m \u001b[1m\u001b[37m\u001b[0m\n",
      "         \u001b[1m\u001b[37mLotArea\u001b[0m\u001b[1m\u001b[37m │\u001b[0m\u001b[1m\u001b[34m▪▪▪▪▪\u001b[0m\u001b[1m\u001b[37m 0.031\u001b[0m                             \u001b[1m\u001b[37m│\u001b[0m \u001b[1m\u001b[37m\u001b[0m\n",
      "      \u001b[1m\u001b[37mGarageCars\u001b[0m\u001b[1m\u001b[37m │\u001b[0m\u001b[1m\u001b[34m▪▪▪\u001b[0m\u001b[1m\u001b[37m 0.022\u001b[0m                               \u001b[1m\u001b[37m│\u001b[0m \u001b[1m\u001b[37m\u001b[0m\n",
      "      \u001b[1m\u001b[37mMSSubClass\u001b[0m\u001b[1m\u001b[37m │\u001b[0m\u001b[1m\u001b[34m▪▪▪\u001b[0m\u001b[1m\u001b[37m 0.021\u001b[0m                               \u001b[1m\u001b[37m│\u001b[0m \u001b[1m\u001b[37m\u001b[0m\n",
      "      \u001b[1m\u001b[37mGarageArea\u001b[0m\u001b[1m\u001b[37m │\u001b[0m\u001b[1m\u001b[34m▪▪▪\u001b[0m\u001b[1m\u001b[37m 0.021\u001b[0m                               \u001b[1m\u001b[37m│\u001b[0m \u001b[1m\u001b[37m\u001b[0m\n",
      "    \u001b[1m\u001b[37mYearRemodAdd\u001b[0m\u001b[1m\u001b[37m │\u001b[0m\u001b[1m\u001b[34m▪▪▪\u001b[0m\u001b[1m\u001b[37m 0.018\u001b[0m                               \u001b[1m\u001b[37m│\u001b[0m \u001b[1m\u001b[37m\u001b[0m\n",
      "       \u001b[1m\u001b[37mYearBuilt\u001b[0m\u001b[1m\u001b[37m │\u001b[0m\u001b[1m\u001b[34m▪▪\u001b[0m\u001b[1m\u001b[37m 0.016\u001b[0m                                \u001b[1m\u001b[37m│\u001b[0m \u001b[1m\u001b[37m\u001b[0m\n",
      "     \u001b[1m\u001b[37mLotFrontage\u001b[0m\u001b[1m\u001b[37m │\u001b[0m\u001b[1m\u001b[34m▪▪\u001b[0m\u001b[1m\u001b[37m 0.014\u001b[0m                                \u001b[1m\u001b[37m│\u001b[0m \u001b[1m\u001b[37m\u001b[0m\n",
      "     \u001b[1m\u001b[37mExterior2nd\u001b[0m\u001b[1m\u001b[37m │\u001b[0m\u001b[1m\u001b[34m▪▪\u001b[0m\u001b[1m\u001b[37m 0.011\u001b[0m                                \u001b[1m\u001b[37m│\u001b[0m \u001b[1m\u001b[37m\u001b[0m\n",
      "       \u001b[1m\u001b[37mx2ndFlrSF\u001b[0m\u001b[1m\u001b[37m │\u001b[0m\u001b[1m\u001b[34m▪▪\u001b[0m\u001b[1m\u001b[37m 0.011\u001b[0m                                \u001b[1m\u001b[37m│\u001b[0m \u001b[1m\u001b[37m\u001b[0m\n",
      "       \u001b[1m\u001b[37mBsmtUnfSF\u001b[0m\u001b[1m\u001b[37m │\u001b[0m\u001b[1m\u001b[34m▪\u001b[0m\u001b[1m\u001b[37m 0.009\u001b[0m                                 \u001b[1m\u001b[37m│\u001b[0m \u001b[1m\u001b[37m\u001b[0m\n",
      "     \u001b[1m\u001b[37mOpenPorchSF\u001b[0m\u001b[1m\u001b[37m │\u001b[0m\u001b[1m\u001b[34m▪\u001b[0m\u001b[1m\u001b[37m 0.009\u001b[0m                                 \u001b[1m\u001b[37m│\u001b[0m \u001b[1m\u001b[37m\u001b[0m\n",
      "     \u001b[1m\u001b[37mOverallCond\u001b[0m\u001b[1m\u001b[37m │\u001b[0m\u001b[1m\u001b[34m▪\u001b[0m\u001b[1m\u001b[37m 0.009\u001b[0m                                 \u001b[1m\u001b[37m│\u001b[0m \u001b[1m\u001b[37m\u001b[0m\n",
      "      \u001b[1m\u001b[37mHouseStyle\u001b[0m\u001b[1m\u001b[37m │\u001b[0m\u001b[1m\u001b[34m▪\u001b[0m\u001b[1m\u001b[37m 0.008\u001b[0m                                 \u001b[1m\u001b[37m│\u001b[0m \u001b[1m\u001b[37m\u001b[0m\n",
      "          \u001b[1m\u001b[37mMoSold\u001b[0m\u001b[1m\u001b[37m │\u001b[0m\u001b[1m\u001b[34m▪\u001b[0m\u001b[1m\u001b[37m 0.007\u001b[0m                                 \u001b[1m\u001b[37m│\u001b[0m \u001b[1m\u001b[37m\u001b[0m\n",
      "        \u001b[1m\u001b[37mMSZoning\u001b[0m\u001b[1m\u001b[37m │\u001b[0m\u001b[1m\u001b[34m▪\u001b[0m\u001b[1m\u001b[37m 0.007\u001b[0m                                 \u001b[1m\u001b[37m│\u001b[0m \u001b[1m\u001b[37m\u001b[0m\n",
      "      \u001b[1m\u001b[37mWoodDeckSF\u001b[0m\u001b[1m\u001b[37m │\u001b[0m\u001b[1m\u001b[34m▪\u001b[0m\u001b[1m\u001b[37m 0.006\u001b[0m                                 \u001b[1m\u001b[37m│\u001b[0m \u001b[1m\u001b[37m\u001b[0m\n",
      "      \u001b[1m\u001b[37mMasVnrArea\u001b[0m\u001b[1m\u001b[37m │\u001b[0m\u001b[1m\u001b[34m▪\u001b[0m\u001b[1m\u001b[37m 0.006\u001b[0m                                 \u001b[1m\u001b[37m│\u001b[0m \u001b[1m\u001b[37m\u001b[0m\n",
      "     \u001b[1m\u001b[37mExterior1st\u001b[0m\u001b[1m\u001b[37m │\u001b[0m\u001b[1m\u001b[34m▪\u001b[0m\u001b[1m\u001b[37m 0.006\u001b[0m                                 \u001b[1m\u001b[37m│\u001b[0m \u001b[1m\u001b[37m\u001b[0m\n",
      "    \u001b[1m\u001b[37mBsmtFinType1\u001b[0m\u001b[1m\u001b[37m │\u001b[0m\u001b[1m\u001b[34m▪\u001b[0m\u001b[1m\u001b[37m 0.006\u001b[0m                                 \u001b[1m\u001b[37m│\u001b[0m \u001b[1m\u001b[37m\u001b[0m\n",
      "   \u001b[1m\u001b[37m\u001b[0m \u001b[1m\u001b[37mBsmtFinType2\u001b[0m\u001b[1m\u001b[37m │\u001b[0m\u001b[1m\u001b[34m▪\u001b[0m\u001b[1m\u001b[37m 0.005\u001b[0m                                 \u001b[1m\u001b[37m│\u001b[0m \u001b[1m\u001b[37m\u001b[0m\n",
      "    \u001b[1m\u001b[37mBedroomAbvGr\u001b[0m\u001b[1m\u001b[37m │\u001b[0m\u001b[1m\u001b[34m▪\u001b[0m\u001b[1m\u001b[37m 0.004\u001b[0m                                 \u001b[1m\u001b[37m│\u001b[0m \u001b[1m\u001b[37m\u001b[0m\n",
      "   \u001b[1m\u001b[37mEnclosedPorch\u001b[0m\u001b[1m\u001b[37m │\u001b[0m\u001b[1m\u001b[34m▪\u001b[0m\u001b[1m\u001b[37m 0.004\u001b[0m                                 \u001b[1m\u001b[37m│\u001b[0m \u001b[1m\u001b[37m\u001b[0m\n",
      "    \u001b[1m\u001b[37mBsmtFullBath\u001b[0m\u001b[1m\u001b[37m │\u001b[0m\u001b[1m\u001b[34m\u001b[0m\u001b[1m\u001b[37m 0.003\u001b[0m                                  \u001b[1m\u001b[37m│\u001b[0m \u001b[1m\u001b[37m\u001b[0m\n",
      "          \u001b[1m\u001b[37mYrSold\u001b[0m\u001b[1m\u001b[37m │\u001b[0m\u001b[1m\u001b[34m\u001b[0m\u001b[1m\u001b[37m 0.002\u001b[0m                                  \u001b[1m\u001b[37m│\u001b[0m \u001b[1m\u001b[37m\u001b[0m\n",
      "        \u001b[1m\u001b[37mBsmtCond\u001b[0m\u001b[1m\u001b[37m │\u001b[0m\u001b[1m\u001b[34m\u001b[0m\u001b[1m\u001b[37m 0.002\u001b[0m                                  \u001b[1m\u001b[37m│\u001b[0m \u001b[1m\u001b[37m\u001b[0m\n",
      "      \u001b[1m\u001b[37mFireplaces\u001b[0m\u001b[1m\u001b[37m │\u001b[0m\u001b[1m\u001b[34m\u001b[0m\u001b[1m\u001b[37m 0.002\u001b[0m                                  \u001b[1m\u001b[37m│\u001b[0m \u001b[1m\u001b[37m\u001b[0m\n",
      "     \u001b[1m\u001b[37mScreenPorch\u001b[0m\u001b[1m\u001b[37m │\u001b[0m\u001b[1m\u001b[34m\u001b[0m\u001b[1m\u001b[37m 0.002\u001b[0m                                  \u001b[1m\u001b[37m│\u001b[0m \u001b[1m\u001b[37m\u001b[0m\n",
      "      \u001b[1m\u001b[37mGarageQual\u001b[0m\u001b[1m\u001b[37m │\u001b[0m\u001b[1m\u001b[34m\u001b[0m\u001b[1m\u001b[37m 0.002\u001b[0m                                  \u001b[1m\u001b[37m│\u001b[0m \u001b[1m\u001b[37m\u001b[0m\n",
      "       \u001b[1m\u001b[37mLotConfig\u001b[0m\u001b[1m\u001b[37m │\u001b[0m\u001b[1m\u001b[34m\u001b[0m\u001b[1m\u001b[37m 0.002\u001b[0m                                  \u001b[1m\u001b[37m│\u001b[0m \u001b[1m\u001b[37m\u001b[0m\n",
      "      \u001b[1m\u001b[37mMasVnrType\u001b[0m\u001b[1m\u001b[37m │\u001b[0m\u001b[1m\u001b[34m\u001b[0m\u001b[1m\u001b[37m 0.002\u001b[0m                                  \u001b[1m\u001b[37m│\u001b[0m \u001b[1m\u001b[37m\u001b[0m\n",
      "       \u001b[1m\u001b[37mLandSlope\u001b[0m\u001b[1m\u001b[37m │\u001b[0m\u001b[1m\u001b[34m\u001b[0m\u001b[1m\u001b[37m 0.002\u001b[0m                                  \u001b[1m\u001b[37m│\u001b[0m \u001b[1m\u001b[37m\u001b[0m\n",
      "      \u001b[1m\u001b[37mFoundation\u001b[0m\u001b[1m\u001b[37m │\u001b[0m\u001b[1m\u001b[34m\u001b[0m\u001b[1m\u001b[37m 0.002\u001b[0m                                  \u001b[1m\u001b[37m│\u001b[0m \u001b[1m\u001b[37m\u001b[0m\n",
      "        \u001b[1m\u001b[37mSaleType\u001b[0m\u001b[1m\u001b[37m │\u001b[0m\u001b[1m\u001b[34m\u001b[0m\u001b[1m\u001b[37m 0.002\u001b[0m                                  \u001b[1m\u001b[37m│\u001b[0m \u001b[1m\u001b[37m\u001b[0m\n",
      "      \u001b[1m\u001b[37mCondition1\u001b[0m\u001b[1m\u001b[37m │\u001b[0m\u001b[1m\u001b[34m\u001b[0m\u001b[1m\u001b[37m 0.001\u001b[0m                                  \u001b[1m\u001b[37m│\u001b[0m \u001b[1m\u001b[37m\u001b[0m\n",
      "      \u001b[1m\u001b[37mGarageType\u001b[0m\u001b[1m\u001b[37m │\u001b[0m\u001b[1m\u001b[34m\u001b[0m\u001b[1m\u001b[37m 0.001\u001b[0m                                  \u001b[1m\u001b[37m│\u001b[0m \u001b[1m\u001b[37m\u001b[0m\n",
      "     \u001b[1m\u001b[37mFireplaceQu\u001b[0m\u001b[1m\u001b[37m │\u001b[0m\u001b[1m\u001b[34m\u001b[0m\u001b[1m\u001b[37m 0.001\u001b[0m                                  \u001b[1m\u001b[37m│\u001b[0m \u001b[1m\u001b[37m\u001b[0m\n",
      "    \u001b[1m\u001b[37mGarageFinish\u001b[0m\u001b[1m\u001b[37m │\u001b[0m\u001b[1m\u001b[34m\u001b[0m\u001b[1m\u001b[37m 0.001\u001b[0m                                  \u001b[1m\u001b[37m│\u001b[0m \u001b[1m\u001b[37m\u001b[0m\n",
      "      \u001b[1m\u001b[37mFunctional\u001b[0m\u001b[1m\u001b[37m │\u001b[0m\u001b[1m\u001b[34m\u001b[0m\u001b[1m\u001b[37m 0.001\u001b[0m                                  \u001b[1m\u001b[37m│\u001b[0m \u001b[1m\u001b[37m\u001b[0m\n",
      "        \u001b[1m\u001b[37mBsmtQual\u001b[0m\u001b[1m\u001b[37m │\u001b[0m\u001b[1m\u001b[34m\u001b[0m\u001b[1m\u001b[37m 0.001\u001b[0m                                  \u001b[1m\u001b[37m│\u001b[0m \u001b[1m\u001b[37m\u001b[0m\n",
      "    \u001b[1m\u001b[37mTotRmsAbvGrd\u001b[0m\u001b[1m\u001b[37m │\u001b[0m\u001b[1m\u001b[34m\u001b[0m\u001b[1m\u001b[37m 0.001\u001b[0m                                  \u001b[1m\u001b[37m│\u001b[0m \u001b[1m\u001b[37m\u001b[0m\n",
      "       \u001b[1m\u001b[37mRoofStyle\u001b[0m\u001b[1m\u001b[37m │\u001b[0m\u001b[1m\u001b[34m\u001b[0m\u001b[1m\u001b[37m 0.001\u001b[0m                                  \u001b[1m\u001b[37m│\u001b[0m \u001b[1m\u001b[37m\u001b[0m\n",
      "    \u001b[1m\u001b[37mBsmtExposure\u001b[0m\u001b[1m\u001b[37m │\u001b[0m\u001b[1m\u001b[34m\u001b[0m\u001b[1m\u001b[37m 0.001\u001b[0m                                  \u001b[1m\u001b[37m│\u001b[0m \u001b[1m\u001b[37m\u001b[0m\n",
      "        \u001b[1m\u001b[37mLotShape\u001b[0m\u001b[1m\u001b[37m │\u001b[0m\u001b[1m\u001b[34m\u001b[0m\u001b[1m\u001b[37m 0.001\u001b[0m                                  \u001b[1m\u001b[37m│\u001b[0m \u001b[1m\u001b[37m\u001b[0m\n",
      "       \u001b[1m\u001b[37mExterQual\u001b[0m\u001b[1m\u001b[37m │\u001b[0m\u001b[1m\u001b[34m\u001b[0m\u001b[1m\u001b[37m 0.001\u001b[0m                                  \u001b[1m\u001b[37m│\u001b[0m \u001b[1m\u001b[37m\u001b[0m\n",
      "        \u001b[1m\u001b[37mHalfBath\u001b[0m\u001b[1m\u001b[37m │\u001b[0m\u001b[1m\u001b[34m\u001b[0m\u001b[1m\u001b[37m 0.0\u001b[0m                                    \u001b[1m\u001b[37m│\u001b[0m \u001b[1m\u001b[37m\u001b[0m\n",
      "    \u001b[1m\u001b[37mBsmtHalfBath\u001b[0m\u001b[1m\u001b[37m │\u001b[0m\u001b[1m\u001b[34m\u001b[0m\u001b[1m\u001b[37m 0.0\u001b[0m                                    \u001b[1m\u001b[37m│\u001b[0m \u001b[1m\u001b[37m\u001b[0m\n",
      "\u001b[1m\u001b[37m                 └────────────────────────────────────────┘\u001b[0m \n"
     ]
    }
   ],
   "source": [
    "@more # shorthand for `showall(ans)`"
   ]
  },
  {
   "cell_type": "markdown",
   "metadata": {},
   "source": [
    "The *popularity* of a feature `j` for a pattern `p` is the number of times `p[j]` is consulted as `p` is run down the tree to determine the corresponding prediction node. To obtain the overall *popularity* of a feature, we sum over all patterns. The popularities are supplied by the `popularity_given_feature` attribute of the tree (a dictionary keyed on feature index). The *importance* of a feature is its popularity, normalised by the most popular feature's popularity. Note that `importance(tree)` is the corresponding dictionary of importance keyed on the *name* of the feature (and what is displayed above)."
   ]
  },
  {
   "cell_type": "code",
   "execution_count": 4,
   "metadata": {
    "collapsed": false
   },
   "outputs": [
    {
     "ename": "LoadError",
     "evalue": "UndefVarError: importance not defined",
     "output_type": "error",
     "traceback": [
      "UndefVarError: importance not defined",
      "",
      " in include_string(::String, ::String) at loading.jl:441",
      " in include_string(::String, ::String) at sys.dylib:?"
     ]
    }
   ],
   "source": [
    "importance_given_name = importance(tree)\n",
    "important_features = reverse(collect(keys_ordered_by_values(importance_given_name)))[1:40]"
   ]
  },
  {
   "cell_type": "markdown",
   "metadata": {},
   "source": [
    "We see that about half of the 40 most important features are ordinal, half categorical:"
   ]
  },
  {
   "cell_type": "code",
   "execution_count": 35,
   "metadata": {
    "collapsed": false
   },
   "outputs": [
    {
     "data": {
      "text/plain": [
       "22"
      ]
     },
     "execution_count": 35,
     "metadata": {},
     "output_type": "execute_result"
    }
   ],
   "source": [
    "sum(X[important_features].scheme.is_ordinal)"
   ]
  },
  {
   "cell_type": "markdown",
   "metadata": {},
   "source": [
    "## Writing results to file"
   ]
  },
  {
   "cell_type": "code",
   "execution_count": 36,
   "metadata": {
    "collapsed": false
   },
   "outputs": [],
   "source": [
    "dg = DataFrame([important_features,],[:field,])\n",
    "\n",
    "writetable(\"3.important_features/important_features.csv\", dg)"
   ]
  }
 ],
 "metadata": {
  "kernelspec": {
   "display_name": "Julia 0.5.2",
   "language": "julia",
   "name": "julia-0.5"
  },
  "language_info": {
   "file_extension": ".jl",
   "mimetype": "application/julia",
   "name": "julia",
   "version": "0.5.2"
  }
 },
 "nbformat": 4,
 "nbformat_minor": 2
}
